{
  "cells": [
    {
      "cell_type": "code",
      "execution_count": 1,
      "metadata": {
        "colab": {
          "base_uri": "https://localhost:8080/",
          "height": 0
        },
        "id": "7YMpCFZ3OaCb",
        "outputId": "1fa6cbd8-e2d6-46be-9cf7-b0c38cfe91cc"
      },
      "outputs": [
        {
          "name": "stdout",
          "output_type": "stream",
          "text": [
            "Mounted at /content/drive\n"
          ]
        }
      ],
      "source": [
        "from google.colab import drive\n",
        "\n",
        "drive.mount('/content/drive')"
      ]
    },
    {
      "cell_type": "markdown",
      "metadata": {
        "id": "uB3vUv0S7Zxc"
      },
      "source": [
        "\n",
        "\n",
        "\n",
        "Kaggle Username: crispyfriedchicken\n",
        "\n",
        "\n",
        "\n",
        "First, read the dataset from the CSV file and move it to a DataFrame.\n",
        "\n"
      ]
    },
    {
      "cell_type": "code",
      "execution_count": 2,
      "metadata": {
        "id": "YZ_8Da9ZGbQS"
      },
      "outputs": [],
      "source": [
        "import pandas as pd\n",
        "train_data = pd.read_csv('/content/train.csv')\n",
        "test_data = pd.read_csv('/content/test.csv')"
      ]
    },
    {
      "cell_type": "markdown",
      "metadata": {
        "id": "weevNj7W7yHi"
      },
      "source": [
        "## Install and Import Libraries"
      ]
    },
    {
      "cell_type": "markdown",
      "metadata": {
        "id": "ejsOMwgJ76jE"
      },
      "source": [
        "In this section, I'll install FastText, a word embedding technique that is particularly beneficial for content-based filtering tasks. FastText excels in capturing semantic meanings and contextual information from text data by representing words as dense vectors in a continuous vector space. I also install scikit-surprise for building and evaluating recommendation systems."
      ]
    },
    {
      "cell_type": "code",
      "execution_count": 3,
      "metadata": {
        "colab": {
          "base_uri": "https://localhost:8080/",
          "height": 0
        },
        "id": "ICsh-6up22Fa",
        "outputId": "3397d4c5-4b3e-4f0b-818e-079622ecbec2"
      },
      "outputs": [
        {
          "name": "stdout",
          "output_type": "stream",
          "text": [
            "Collecting fasttext\n",
            "  Downloading fasttext-0.9.2.tar.gz (68 kB)\n",
            "\u001b[2K     \u001b[90m━━━━━━━━━━━━━━━━━━━━━━━━━━━━━━━━━━━━━━━━\u001b[0m \u001b[32m68.8/68.8 kB\u001b[0m \u001b[31m1.9 MB/s\u001b[0m eta \u001b[36m0:00:00\u001b[0m\n",
            "\u001b[?25h  Preparing metadata (setup.py) ... \u001b[?25l\u001b[?25hdone\n",
            "Collecting pybind11>=2.2 (from fasttext)\n",
            "  Using cached pybind11-2.12.0-py3-none-any.whl (234 kB)\n",
            "Requirement already satisfied: setuptools>=0.7.0 in /usr/local/lib/python3.10/dist-packages (from fasttext) (67.7.2)\n",
            "Requirement already satisfied: numpy in /usr/local/lib/python3.10/dist-packages (from fasttext) (1.25.2)\n",
            "Building wheels for collected packages: fasttext\n",
            "  Building wheel for fasttext (setup.py) ... \u001b[?25l\u001b[?25hdone\n",
            "  Created wheel for fasttext: filename=fasttext-0.9.2-cp310-cp310-linux_x86_64.whl size=4227139 sha256=48463507bd0c41277e48c473daeeeec66b16cbea22403aeedc3a51854da9e16c\n",
            "  Stored in directory: /root/.cache/pip/wheels/a5/13/75/f811c84a8ab36eedbaef977a6a58a98990e8e0f1967f98f394\n",
            "Successfully built fasttext\n",
            "Installing collected packages: pybind11, fasttext\n",
            "Successfully installed fasttext-0.9.2 pybind11-2.12.0\n"
          ]
        }
      ],
      "source": [
        "!pip install fasttext"
      ]
    },
    {
      "cell_type": "code",
      "execution_count": 4,
      "metadata": {
        "colab": {
          "base_uri": "https://localhost:8080/",
          "height": 0
        },
        "id": "NwSX4TmiUgi8",
        "outputId": "2ee9383a-8af5-40bf-de86-626a219094e7"
      },
      "outputs": [
        {
          "name": "stdout",
          "output_type": "stream",
          "text": [
            "Collecting scikit-surprise\n",
            "  Downloading scikit_surprise-1.1.4.tar.gz (154 kB)\n",
            "\u001b[?25l     \u001b[90m━━━━━━━━━━━━━━━━━━━━━━━━━━━━━━━━━━━━━━━━\u001b[0m \u001b[32m0.0/154.4 kB\u001b[0m \u001b[31m?\u001b[0m eta \u001b[36m-:--:--\u001b[0m\r\u001b[2K     \u001b[91m━━━━━━━━━━━━━━━━━━━━━━━━━━━━━━━━━━\u001b[0m\u001b[90m╺\u001b[0m\u001b[90m━━━━━\u001b[0m \u001b[32m133.1/154.4 kB\u001b[0m \u001b[31m3.9 MB/s\u001b[0m eta \u001b[36m0:00:01\u001b[0m\r\u001b[2K     \u001b[90m━━━━━━━━━━━━━━━━━━━━━━━━━━━━━━━━━━━━━━━━\u001b[0m \u001b[32m154.4/154.4 kB\u001b[0m \u001b[31m3.4 MB/s\u001b[0m eta \u001b[36m0:00:00\u001b[0m\n",
            "\u001b[?25h  Installing build dependencies ... \u001b[?25l\u001b[?25hdone\n",
            "  Getting requirements to build wheel ... \u001b[?25l\u001b[?25hdone\n",
            "  Preparing metadata (pyproject.toml) ... \u001b[?25l\u001b[?25hdone\n",
            "Requirement already satisfied: joblib>=1.2.0 in /usr/local/lib/python3.10/dist-packages (from scikit-surprise) (1.4.2)\n",
            "Requirement already satisfied: numpy>=1.19.5 in /usr/local/lib/python3.10/dist-packages (from scikit-surprise) (1.25.2)\n",
            "Requirement already satisfied: scipy>=1.6.0 in /usr/local/lib/python3.10/dist-packages (from scikit-surprise) (1.11.4)\n",
            "Building wheels for collected packages: scikit-surprise\n",
            "  Building wheel for scikit-surprise (pyproject.toml) ... \u001b[?25l\u001b[?25hdone\n",
            "  Created wheel for scikit-surprise: filename=scikit_surprise-1.1.4-cp310-cp310-linux_x86_64.whl size=2357247 sha256=2cf1d62cd406ccd157f8bde409941fa7df9ee22ee9cf73e764c4aff86a88e57f\n",
            "  Stored in directory: /root/.cache/pip/wheels/4b/3f/df/6acbf0a40397d9bf3ff97f582cc22fb9ce66adde75bc71fd54\n",
            "Successfully built scikit-surprise\n",
            "Installing collected packages: scikit-surprise\n",
            "Successfully installed scikit-surprise-1.1.4\n"
          ]
        }
      ],
      "source": [
        "!pip install scikit-surprise"
      ]
    },
    {
      "cell_type": "code",
      "execution_count": 5,
      "metadata": {
        "colab": {
          "base_uri": "https://localhost:8080/",
          "height": 0
        },
        "id": "YBnFraWWNPbc",
        "outputId": "2a2141f7-fe29-461f-cc47-b37d970fdcb1"
      },
      "outputs": [
        {
          "name": "stdout",
          "output_type": "stream",
          "text": [
            "Collecting keras-tuner\n",
            "  Downloading keras_tuner-1.4.7-py3-none-any.whl (129 kB)\n",
            "\u001b[?25l     \u001b[90m━━━━━━━━━━━━━━━━━━━━━━━━━━━━━━━━━━━━━━━━\u001b[0m \u001b[32m0.0/129.1 kB\u001b[0m \u001b[31m?\u001b[0m eta \u001b[36m-:--:--\u001b[0m\r\u001b[2K     \u001b[91m━━━━━━━━━━━━━━━━━━━━━━━━━━━━━━━━━━━━━━\u001b[0m\u001b[90m╺\u001b[0m\u001b[90m━\u001b[0m \u001b[32m122.9/129.1 kB\u001b[0m \u001b[31m3.7 MB/s\u001b[0m eta \u001b[36m0:00:01\u001b[0m\r\u001b[2K     \u001b[90m━━━━━━━━━━━━━━━━━━━━━━━━━━━━━━━━━━━━━━━━\u001b[0m \u001b[32m129.1/129.1 kB\u001b[0m \u001b[31m3.3 MB/s\u001b[0m eta \u001b[36m0:00:00\u001b[0m\n",
            "\u001b[?25hRequirement already satisfied: keras in /usr/local/lib/python3.10/dist-packages (from keras-tuner) (2.15.0)\n",
            "Requirement already satisfied: packaging in /usr/local/lib/python3.10/dist-packages (from keras-tuner) (24.0)\n",
            "Requirement already satisfied: requests in /usr/local/lib/python3.10/dist-packages (from keras-tuner) (2.31.0)\n",
            "Collecting kt-legacy (from keras-tuner)\n",
            "  Downloading kt_legacy-1.0.5-py3-none-any.whl (9.6 kB)\n",
            "Requirement already satisfied: charset-normalizer<4,>=2 in /usr/local/lib/python3.10/dist-packages (from requests->keras-tuner) (3.3.2)\n",
            "Requirement already satisfied: idna<4,>=2.5 in /usr/local/lib/python3.10/dist-packages (from requests->keras-tuner) (3.7)\n",
            "Requirement already satisfied: urllib3<3,>=1.21.1 in /usr/local/lib/python3.10/dist-packages (from requests->keras-tuner) (2.0.7)\n",
            "Requirement already satisfied: certifi>=2017.4.17 in /usr/local/lib/python3.10/dist-packages (from requests->keras-tuner) (2024.2.2)\n",
            "Installing collected packages: kt-legacy, keras-tuner\n",
            "Successfully installed keras-tuner-1.4.7 kt-legacy-1.0.5\n"
          ]
        }
      ],
      "source": [
        "!pip install keras-tuner"
      ]
    },
    {
      "cell_type": "code",
      "execution_count": 6,
      "metadata": {
        "colab": {
          "base_uri": "https://localhost:8080/",
          "height": 0
        },
        "id": "VmxNhZcnQIT4",
        "outputId": "882d287b-1f49-4f44-a7d4-b966400ee2c0"
      },
      "outputs": [
        {
          "name": "stderr",
          "output_type": "stream",
          "text": [
            "<ipython-input-6-01c3964a3b85>:24: DeprecationWarning: `import kerastuner` is deprecated, please use `import keras_tuner`.\n",
            "  from kerastuner.tuners import RandomSearch\n"
          ]
        }
      ],
      "source": [
        "import pandas as pd\n",
        "import numpy as np\n",
        "import fasttext\n",
        "from sklearn.metrics import mean_squared_error, mean_absolute_error\n",
        "from sklearn.metrics.pairwise import cosine_similarity\n",
        "from gensim.models import Word2Vec\n",
        "from sklearn.preprocessing import MinMaxScaler\n",
        "import torch\n",
        "from transformers import BertModel, BertTokenizer\n",
        "from surprise import Dataset, Reader, KNNBasic, accuracy,SVD\n",
        "from surprise.model_selection import train_test_split, GridSearchCV,cross_validate\n",
        "import gc\n",
        "from collections import defaultdict\n",
        "import pandas as pd\n",
        "import matplotlib.pyplot as plt\n",
        "import seaborn as sns\n",
        "from surprise.model_selection import cross_validate\n",
        "import pickle\n",
        "import os\n",
        "import tensorflow as tf\n",
        "from tensorflow.keras.models import Model, load_model\n",
        "from tensorflow.keras.layers import Input, Embedding, Flatten, Concatenate, Dense, Dropout\n",
        "from tensorflow.keras.optimizers import Adam\n",
        "from kerastuner.tuners import RandomSearch\n",
        "from kerastuner import HyperModel\n",
        "from math import sqrt\n"
      ]
    },
    {
      "cell_type": "markdown",
      "metadata": {
        "id": "GDcjM-Qj2V6Z"
      },
      "source": [
        "## EDA"
      ]
    },
    {
      "cell_type": "markdown",
      "metadata": {
        "id": "ANPYNqBnwZS6"
      },
      "source": [
        "In this section, I analyse the problem in the dataset. I plot the distribution of ratings to determine whether the dataset is skewed and assess its usefulness for designing a recommender system that can handle the data effectively. Additionally, I plot the proportion of new items in the test dataset to identify whether a cold start problem occurs. The cold start phenomenon happens when there are new products that do not appear in the training dataset."
      ]
    },
    {
      "cell_type": "markdown",
      "metadata": {
        "id": "Y5s05LuswUwD"
      },
      "source": [
        "### Distribution of Ratings in Train Data"
      ]
    },
    {
      "cell_type": "code",
      "execution_count": null,
      "metadata": {
        "colab": {
          "base_uri": "https://localhost:8080/",
          "height": 564
        },
        "id": "r5bVGuxLLHDi",
        "outputId": "0aa77d45-b964-4a00-c907-d75a54c1d523"
      },
      "outputs": [
        {
          "data": {
            "image/png": "[encoded data removed]",
            "text/plain": [
              "<Figure size 1000x600 with 1 Axes>"
            ]
          },
          "metadata": {},
          "output_type": "display_data"
        }
      ],
      "source": [
        "plt.figure(figsize=(10, 6))\n",
        "sns.histplot(train_data['rating'], kde=False)\n",
        "plt.title('Distribution of Ratings')\n",
        "plt.xlabel('Rating')\n",
        "plt.ylabel('Frequency')\n",
        "plt.grid(True)\n",
        "plt.show()\n"
      ]
    },
    {
      "cell_type": "markdown",
      "metadata": {
        "id": "nhyTKtqYxOie"
      },
      "source": [
        "### Proportion of New vs. Existing Products in Test Set"
      ]
    },
    {
      "cell_type": "code",
      "execution_count": null,
      "metadata": {
        "colab": {
          "base_uri": "https://localhost:8080/",
          "height": 539
        },
        "id": "3YNS1URK2bC_",
        "outputId": "3b4ae5ee-55c8-45f6-c3f0-de4bb0467e11"
      },
      "outputs": [
        {
          "name": "stdout",
          "output_type": "stream",
          "text": [
            "Number of new products in the test set: 16673\n"
          ]
        },
        {
          "data": {
            "image/png": "[encoded data removed]",
            "text/plain": [
              "<Figure size 800x600 with 1 Axes>"
            ]
          },
          "metadata": {},
          "output_type": "display_data"
        }
      ],
      "source": [
        "train_products = set(train_data['product_name'])\n",
        "test_products = set(test_data['product_name'])\n",
        "\n",
        "# Identify new products that are in the test set but not in the training set\n",
        "new_products = test_products - train_products\n",
        "num_new_products = len(new_products)\n",
        "print(\"Number of new products in the test set:\", num_new_products)\n",
        "import matplotlib.pyplot as plt\n",
        "\n",
        "# Data to plot\n",
        "labels = 'New Products', 'Existing Products'\n",
        "sizes = [len(new_products), len(test_products - new_products)]\n",
        "\n",
        "# Colors\n",
        "colors = ['gold', 'yellowgreen']\n",
        "\n",
        "explode = (0.1, 0)\n",
        "\n",
        "# Plot\n",
        "plt.figure(figsize=(8, 6))\n",
        "plt.pie(sizes, explode=explode, labels=labels, colors=colors, autopct='%1.1f%%', shadow=True, startangle=140)\n",
        "\n",
        "plt.axis('equal')\n",
        "plt.title('Proportion of New vs. Existing Products in Test Set')\n",
        "plt.show()\n"
      ]
    },
    {
      "cell_type": "markdown",
      "metadata": {
        "id": "w5rTk8Bw2hrs"
      },
      "source": [
        "## Content Based Filtering\n"
      ]
    },
    {
      "cell_type": "markdown",
      "metadata": {
        "id": "yAraeJ-zzy7p"
      },
      "source": [
        "In this section, I try three word embeddings to compute content-based filtering: FastText, Word2Vec, and BERT. I use product names to search for similarities, which will be useful for new products. By finding the similarity of the new product, the system can reference ratings for the new item. Based on this analysis, I choose Word2Vec as the best embedding to be combined in the hybrid approach."
      ]
    },
    {
      "cell_type": "markdown",
      "metadata": {
        "id": "QiXWPyOzyIK8"
      },
      "source": [
        "### Fast Text"
      ]
    },
    {
      "cell_type": "code",
      "execution_count": null,
      "metadata": {
        "colab": {
          "base_uri": "https://localhost:8080/"
        },
        "id": "E3F633C02etq",
        "outputId": "333780f0-0019-4a6c-b485-3d74c52d2be0"
      },
      "outputs": [
        {
          "name": "stderr",
          "output_type": "stream",
          "text": [
            "Warning : `load_model` does not return WordVectorModel or SupervisedModel any more, but a `FastText` object which is very similar.\n"
          ]
        },
        {
          "name": "stdout",
          "output_type": "stream",
          "text": [
            "RMSE: 6.323555161327972\n",
            "MAE: 0.9146780973421937\n",
            "Precision@K: 0.5\n",
            "Recall@K: 5.19367202999865e-05\n"
          ]
        }
      ],
      "source": [
        "import fasttext\n",
        "import numpy as np\n",
        "import pandas as pd\n",
        "from sklearn.metrics.pairwise import cosine_similarity\n",
        "from sklearn.model_selection import train_test_split\n",
        "from sklearn.metrics import mean_squared_error, mean_absolute_error\n",
        "\n",
        "# Function to compute FastText embeddings\n",
        "def get_fasttext_embedding(text, model):\n",
        "    # Retrieve the sentence vector for a given text from the FastText model\n",
        "    return model.get_sentence_vector(text)\n",
        "\n",
        "# Splitting the dataset into training and validation sets\n",
        "train_data, val_data = train_test_split(train_data, test_size=0.2, random_state=42)\n",
        "\n",
        "def train_and_evaluate(train_data, save_model_path, K=10, relevance_threshold=4):\n",
        "    # Save the training data to a temporary text file for FastText training\n",
        "    temp_train_file = \"temp_train.txt\"\n",
        "    with open(temp_train_file, 'w', encoding='utf-8') as file:\n",
        "        for index, row in train_data.iterrows():\n",
        "            label = \"__label__\" + str(row['rating'])  # Example label format\n",
        "            text = row['product_name'].replace('\\n', ' ')  # Ensure no newlines in text\n",
        "            file.write(f\"{label} {text}\\n\")\n",
        "\n",
        "    # Train a FastText supervised model on the training data\n",
        "    model = fasttext.train_supervised(input=temp_train_file, lr=0.1, epoch=25, wordNgrams=2, verbose=2)\n",
        "    model.save_model(save_model_path)\n",
        "\n",
        "    # Compute FastText embeddings for the product names in the training data\n",
        "    train_embeddings = [model.get_sentence_vector(text) for text in train_data['product_name']]\n",
        "\n",
        "    # Initialize lists to store metrics and data for later comparison\n",
        "    actual_ratings = []\n",
        "    predicted_ratings = []\n",
        "    item_indices = []\n",
        "\n",
        "    # Iterate over validation data in batches to compute predictions\n",
        "    batch_size = 100\n",
        "    for i in range(0, len(val_data), batch_size):\n",
        "        val_batch = val_data.iloc[i:i+batch_size]\n",
        "        val_embeddings_batch = [model.get_sentence_vector(text) for text in val_batch['product_name']]\n",
        "        similarity_matrix_batch = cosine_similarity(val_embeddings_batch, train_embeddings)\n",
        "\n",
        "        for j in range(len(val_batch)):\n",
        "            similarity_scores = similarity_matrix_batch[j]\n",
        "            train_ratings = train_data['rating'].values\n",
        "            weighted_sum = np.sum(similarity_scores * train_ratings)\n",
        "            total_similarity = np.sum(similarity_scores)\n",
        "            predicted_rating = weighted_sum / total_similarity if total_similarity != 0 else 0\n",
        "\n",
        "            actual_ratings.append(val_batch.iloc[j]['rating'])\n",
        "            predicted_ratings.append(predicted_rating)\n",
        "            item_indices.append(val_batch.index[j])\n",
        "\n",
        "    # Calculate RMSE and MAE\n",
        "    rmse = np.sqrt(mean_squared_error(actual_ratings, predicted_ratings))\n",
        "    mae = mean_absolute_error(actual_ratings, predicted_ratings)\n",
        "\n",
        "    # Prepare for Precision@K and Recall@K calculations\n",
        "    predictions_df = pd.DataFrame({\n",
        "        'item_index': item_indices,\n",
        "        'predicted_rating': predicted_ratings,\n",
        "        'actual_rating': actual_ratings\n",
        "    }).sort_values(by='predicted_rating', ascending=False)\n",
        "\n",
        "    top_k_predictions = predictions_df.head(K)\n",
        "    relevant_items = predictions_df[predictions_df['actual_rating'] >= relevance_threshold]\n",
        "    relevant_top_k = top_k_predictions[top_k_predictions['actual_rating'] >= relevance_threshold]\n",
        "\n",
        "    precision_at_k = len(relevant_top_k) / K\n",
        "    recall_at_k = len(relevant_top_k) / len(relevant_items) if len(relevant_items) > 0 else 0\n",
        "\n",
        "    return {\n",
        "        'RMSE': rmse,\n",
        "        'MAE': mae,\n",
        "        'Precision@K': precision_at_k,\n",
        "        'Recall@K': recall_at_k\n",
        "    }\n",
        "\n",
        "# Ensure you are using the correct model loading given the fastText update\n",
        "def load_and_compute_embeddings(train_data):\n",
        "    model = fasttext.load_model('fasttext_model.bin')\n",
        "    return {product_name: get_fasttext_embedding(product_name, model) for product_name in train_data['product_name'].unique()}\n",
        "\n",
        "product_embeddings = load_and_compute_embeddings(train_data)\n",
        "\n",
        "# Compute user profiles and predict ratings\n",
        "def compute_user_profile(user_id, data, product_embeddings):\n",
        "    user_ratings = data[data['user_id'] == user_id]\n",
        "    weighted_embeddings = [\n",
        "        product_embeddings[row['product_name']] * row['rating']\n",
        "        for index, row in user_ratings.iterrows()\n",
        "        if row['product_name'] in product_embeddings\n",
        "    ]\n",
        "    return np.mean(weighted_embeddings, axis=0) if weighted_embeddings else np.zeros(len(next(iter(product_embeddings.values()))))\n",
        "\n",
        "user_profiles = {user: compute_user_profile(user, train_data, product_embeddings) for user in train_data['user_id'].unique()}\n",
        "\n",
        "def predict_rating(user_id, product_name, user_profiles, product_embeddings):\n",
        "    user_profile = user_profiles.get(user_id, np.zeros(len(next(iter(product_embeddings.values())))))\n",
        "    product_embedding = product_embeddings.get(product_name, np.zeros(len(next(iter(product_embeddings.values())))))\n",
        "    return cosine_similarity([user_profile], [product_embedding])[0][0]\n",
        "\n",
        "val_data['similarity'] = val_data.apply(lambda row: predict_rating(row['user_id'], row['product_name'], user_profiles, product_embeddings), axis=1)\n",
        "\n",
        "# Print evaluation metrics\n",
        "batch_metrics = train_and_evaluate(train_data, 'fasttext_model.bin', K=10)\n",
        "print(\"RMSE:\", batch_metrics['RMSE'])\n",
        "print(\"MAE:\", batch_metrics['MAE'])\n",
        "print(\"Precision@K:\", batch_metrics['Precision@K'])\n",
        "print(\"Recall@K:\", batch_metrics['Recall@K'])\n"
      ]
    },
    {
      "cell_type": "markdown",
      "metadata": {
        "id": "olLLUFqtQr02"
      },
      "source": [
        "### Word2Vec"
      ]
    },
    {
      "cell_type": "code",
      "execution_count": null,
      "metadata": {
        "id": "AKfbIw2m-cJd"
      },
      "outputs": [],
      "source": [
        "train_data, val_data = train_test_split(train_data, test_size=0.2, random_state=42)\n",
        "\n",
        "# Train Word2Vec model\n",
        "product_names = train_data['product_name'].apply(lambda x: x.split())\n",
        "word2vec_model = Word2Vec(sentences=product_names, vector_size=300, window=5, min_count=1, workers=4)\n",
        "\n",
        "# Compute embeddings for products\n",
        "def compute_product_embedding(product_name, model):\n",
        "    words = product_name.split()\n",
        "    word_vectors = [model.wv[word] for word in words if word in model.wv]\n",
        "    return np.mean(word_vectors, axis=0) if word_vectors else np.zeros(model.vector_size)\n",
        "\n",
        "product_embeddings = {product: compute_product_embedding(product, word2vec_model) for product in train_data['product_name'].unique()}\n"
      ]
    },
    {
      "cell_type": "code",
      "execution_count": null,
      "metadata": {
        "id": "klyG3NiHsEsO"
      },
      "outputs": [],
      "source": [
        "def compute_user_profile(user_id, data, product_embeddings):\n",
        "    # Extract user ratings from the data\n",
        "    user_ratings = data[data['user_id'] == user_id]\n",
        "\n",
        "    # Compute weighted embeddings for the user's interactions\n",
        "    weighted_embeddings = [product_embeddings[row['product_name']] * row['rating'] for index, row in user_ratings.iterrows()]\n",
        "\n",
        "    # Compute the mean of the weighted embeddings if there are interactions, else return zeros\n",
        "    return np.mean(weighted_embeddings, axis=0) if weighted_embeddings else np.zeros(word2vec_model.vector_size)\n",
        "\n",
        "# Compute user profiles for all unique users in the training data\n",
        "user_profiles = {user: compute_user_profile(user, train_data, product_embeddings) for user in train_data['user_id'].unique()}\n",
        "\n",
        "def predict_rating(user_id, product_name, user_profiles, product_embeddings):\n",
        "    # Retrieve user profile and product embedding\n",
        "    user_profile = user_profiles.get(user_id, np.zeros(word2vec_model.vector_size))\n",
        "    product_embedding = product_embeddings.get(product_name, np.zeros(word2vec_model.vector_size))\n",
        "\n",
        "    # Compute cosine similarity between user profile and product embedding\n",
        "    return cosine_similarity([user_profile], [product_embedding])[0][0]\n",
        "\n",
        "# Apply predict_rating function to each row in the validation data to compute similarity\n",
        "val_data['similarity'] = val_data.apply(lambda row: predict_rating(row['user_id'], row['product_name'], user_profiles, product_embeddings), axis=1)\n"
      ]
    },
    {
      "cell_type": "code",
      "execution_count": null,
      "metadata": {
        "colab": {
          "base_uri": "https://localhost:8080/"
        },
        "id": "mYo2djNlsiEF",
        "outputId": "4d7d14a6-30a0-4142-97a4-2decd431d0b9"
      },
      "outputs": [
        {
          "name": "stdout",
          "output_type": "stream",
          "text": [
            "RMSE: 1.5695634976055703\n",
            "MAE: 1.2727559875821262\n",
            "Precision@K: 0.9\n",
            "Recall@K: 0.000116910446597906\n"
          ]
        }
      ],
      "source": [
        "scaler = MinMaxScaler(feature_range=(1, 5))\n",
        "val_data['predicted_rating'] = scaler.fit_transform(val_data[['similarity']])\n",
        "\n",
        "# Calculate evaluation metrics\n",
        "actual_ratings = val_data['rating']\n",
        "predicted_ratings = val_data['predicted_rating']\n",
        "rmse = np.sqrt(mean_squared_error(actual_ratings, predicted_ratings))\n",
        "mae = mean_absolute_error(actual_ratings, predicted_ratings)\n",
        "\n",
        "# Calculate Precision@K and Recall@K\n",
        "K = 10\n",
        "predictions_df = val_data[['rating', 'predicted_rating']].sort_values(by='predicted_rating', ascending=False)\n",
        "top_k_predictions = predictions_df.head(K)\n",
        "relevant_items = predictions_df[predictions_df['rating'] >= 4]\n",
        "relevant_top_k = top_k_predictions[top_k_predictions['rating'] >= 4]\n",
        "\n",
        "precision_at_k = len(relevant_top_k) / K\n",
        "recall_at_k = len(relevant_top_k) / len(relevant_items) if len(relevant_items) > 0 else 0\n",
        "\n",
        "# Compile results\n",
        "results = {\n",
        "    'RMSE': rmse,\n",
        "    'MAE': mae,\n",
        "    'Precision@K': precision_at_k,\n",
        "    'Recall@K': recall_at_k\n",
        "}\n",
        "\n",
        "print(\"RMSE:\", results['RMSE'])\n",
        "print(\"MAE:\", results['MAE'])\n",
        "print(\"Precision@K:\", results['Precision@K'])\n",
        "print(\"Recall@K:\", results['Recall@K'])\n",
        "\n"
      ]
    },
    {
      "cell_type": "markdown",
      "metadata": {
        "id": "UjOaGFwVQxzn"
      },
      "source": [
        "### BERT"
      ]
    },
    {
      "cell_type": "code",
      "execution_count": null,
      "metadata": {
        "colab": {
          "base_uri": "https://localhost:8080/",
          "height": 343,
          "referenced_widgets": [
            "9bfda9b20a254ebdb0ca7298daaacec8",
            "beb50ff5391348778acf8ecb736fa96a",
            "cbc72d405b754e7f99e72da817491a44",
            "3a88f97a813246fa911c2e59cc480bc5",
            "1ad5ba58143348c5b7e1b2a244116549",
            "17fef61e931e4580b8bdfbb3da88ef6f",
            "f38e29cf4d05444e8cc687c43fe58ec9",
            "5e4c61d41ec74985b9a800799448cced",
            "e0fe8b45af974938be00e02e529cfbfe",
            "7b799fece39d4adb9d9c3f7a4c6df611",
            "b44315fbf871447dbd1885abf64b1b76",
            "0c66b6847a11449094c0acfb5adcf40e",
            "627321adb946499a95e3934f44d6c2bc",
            "3ae5d4b975094aaca8a51238a97b4c5c",
            "5114da1f0d0842e89a2d1a75b7c9699c",
            "f34426fee3b9427fa4476e543cacdb7e",
            "610e33f8005c40c89b4d4151e5393cb9",
            "d8bd042c387f43daa14d204c0bf424c9",
            "ab5100ec57a04caa98a5c285cb35a48b",
            "062452a4bdc7495f94a0d515effe3200",
            "bdeb29ea054840f7b8f208376e83defd",
            "d3f86577cce145558842431b52b30b23",
            "7a934874b35747ed945943ceed1c5af1",
            "e059fdace8284a50ad5e4f1e78e49bab",
            "92b688629dd2433497666dcc353a5426",
            "47357f2750064102aa51524fa3552b94",
            "34615a376d934f39a06b7be33989228b",
            "b61dea476484405a9fd3e4d39fd9c928",
            "db76326037ce4050ba39cf48c31a8906",
            "7dab59f02a25403c8136209dcf886a49",
            "ff700ce192ce4b189a01dd7ee3fab5b9",
            "4a318c9c51cc4050ad1a378319d1026f",
            "182f7c7f98d149d29182be4b98ef1789",
            "57471198b28b4e599b15490ba506efba",
            "0d3e04ee181c40938a290646e4b63030",
            "0694e56b9b284e3699c001f69bab1968",
            "530663a98da741b5a670a24a70465335",
            "21f19cc0c2bf49628725dc1283c11c90",
            "d487d4567249422fbec06466c600c498",
            "cdd545edecec4e2c988d0c68e06c5533",
            "d2bb00ca10dc40ae8aa2ae10df7a7e62",
            "8d5bda789c434c7c9410d15aeb5584de",
            "befb7301da434e6595f873aa991bd507",
            "41cf3bacc8d349ca87e996250f2f2ca9",
            "a3a7a5d621344da7989094bca4c412e7",
            "ce184127a91446ffaa98a83ce8d9767a",
            "c186aacbcc79449299902663b5db4d9d",
            "82436062eebe4d0bb151f9d35903f6e8",
            "4de333aaf4594f1dab092fc8eb10c9cb",
            "50744dea75544324a756d1c62bb0d20d",
            "3b2b2e194b614ebcb5da8ddfc5410ae3",
            "4929debe87bc4bc9a6af6f76058bbb69",
            "7b5fa9f75b6646e4913ef1c86c1b093c",
            "2d43fa44b7654136871e7d37e14d1332",
            "54f6dcaf482c40b8aca672d58e53bdcb"
          ]
        },
        "id": "wWsWl2DUtNwA",
        "outputId": "6ca29c81-a5e3-4dff-b177-8f94eb23a2bf"
      },
      "outputs": [
        {
          "name": "stderr",
          "output_type": "stream",
          "text": [
            "/usr/local/lib/python3.10/dist-packages/huggingface_hub/utils/_token.py:89: UserWarning: \n",
            "The secret `HF_TOKEN` does not exist in your Colab secrets.\n",
            "To authenticate with the Hugging Face Hub, create a token in your settings tab (https://huggingface.co/settings/tokens), set it as secret in your Google Colab and restart your session.\n",
            "You will be able to reuse this secret in all of your notebooks.\n",
            "Please note that authentication is recommended but still optional to access public models or datasets.\n",
            "  warnings.warn(\n"
          ]
        },
        {
          "data": {
            "application/vnd.jupyter.widget-view+json": {
              "model_id": "9bfda9b20a254ebdb0ca7298daaacec8",
              "version_major": 2,
              "version_minor": 0
            },
            "text/plain": [
              "tokenizer_config.json:   0%|          | 0.00/48.0 [00:00<?, ?B/s]"
            ]
          },
          "metadata": {},
          "output_type": "display_data"
        },
        {
          "data": {
            "application/vnd.jupyter.widget-view+json": {
              "model_id": "0c66b6847a11449094c0acfb5adcf40e",
              "version_major": 2,
              "version_minor": 0
            },
            "text/plain": [
              "vocab.txt:   0%|          | 0.00/232k [00:00<?, ?B/s]"
            ]
          },
          "metadata": {},
          "output_type": "display_data"
        },
        {
          "data": {
            "application/vnd.jupyter.widget-view+json": {
              "model_id": "7a934874b35747ed945943ceed1c5af1",
              "version_major": 2,
              "version_minor": 0
            },
            "text/plain": [
              "tokenizer.json:   0%|          | 0.00/466k [00:00<?, ?B/s]"
            ]
          },
          "metadata": {},
          "output_type": "display_data"
        },
        {
          "name": "stderr",
          "output_type": "stream",
          "text": [
            "/usr/local/lib/python3.10/dist-packages/huggingface_hub/file_download.py:1132: FutureWarning: `resume_download` is deprecated and will be removed in version 1.0.0. Downloads always resume when possible. If you want to force a new download, use `force_download=True`.\n",
            "  warnings.warn(\n"
          ]
        },
        {
          "data": {
            "application/vnd.jupyter.widget-view+json": {
              "model_id": "57471198b28b4e599b15490ba506efba",
              "version_major": 2,
              "version_minor": 0
            },
            "text/plain": [
              "config.json:   0%|          | 0.00/570 [00:00<?, ?B/s]"
            ]
          },
          "metadata": {},
          "output_type": "display_data"
        },
        {
          "data": {
            "application/vnd.jupyter.widget-view+json": {
              "model_id": "a3a7a5d621344da7989094bca4c412e7",
              "version_major": 2,
              "version_minor": 0
            },
            "text/plain": [
              "model.safetensors:   0%|          | 0.00/440M [00:00<?, ?B/s]"
            ]
          },
          "metadata": {},
          "output_type": "display_data"
        }
      ],
      "source": [
        "# Initialize tokenizer\n",
        "tokenizer = BertTokenizer.from_pretrained('bert-base-uncased')\n",
        "\n",
        "# Initialize model\n",
        "model = BertModel.from_pretrained('bert-base-uncased')\n"
      ]
    },
    {
      "cell_type": "code",
      "execution_count": null,
      "metadata": {
        "id": "P2FI6cm2uDuB"
      },
      "outputs": [],
      "source": [
        "def compute_bert_embedding_batch(products):\n",
        "    # Tokenize the input products\n",
        "    encoded_input = tokenizer(products, padding=True, truncation=True, return_tensors='pt')\n",
        "\n",
        "    with torch.no_grad():\n",
        "        # Pass the encoded input through the BERT model\n",
        "        output = model(**encoded_input)\n",
        "\n",
        "    # Compute the mean of the last hidden state across tokens for each product\n",
        "    return output.last_hidden_state.mean(dim=1)\n"
      ]
    },
    {
      "cell_type": "code",
      "execution_count": null,
      "metadata": {
        "id": "3FNVU5PXuKt3"
      },
      "outputs": [],
      "source": [
        "# Load and split data\n",
        "train_data, val_data = train_test_split(train_data, test_size=0.2, random_state=42)\n",
        "\n",
        "# Compute product embeddings for training data\n",
        "products = train_data['product_name'].unique().tolist()\n",
        "batch_size = 100\n",
        "product_embeddings = {}\n",
        "for i in range(0, len(products), batch_size):\n",
        "    batch = products[i:i+batch_size]\n",
        "    embeddings = compute_bert_embedding_batch(batch).numpy()\n",
        "    for j, product in enumerate(batch):\n",
        "        product_embeddings[product] = embeddings[j]\n",
        "\n",
        "# Compute user profile embeddings\n",
        "def compute_user_profile(user_id, data):\n",
        "    user_ratings = data[data['user_id'] == user_id]\n",
        "    weighted_embeddings = [product_embeddings[row['product_name']] * row['rating'] for _, row in user_ratings.iterrows() if row['product_name'] in product_embeddings]\n",
        "    return np.mean(weighted_embeddings, axis=0) if weighted_embeddings else np.zeros(model.config.hidden_size)\n",
        "\n",
        "user_profiles = {user: compute_user_profile(user, train_data) for user in train_data['user_id'].unique()}\n"
      ]
    },
    {
      "cell_type": "code",
      "execution_count": null,
      "metadata": {
        "id": "vhoel-DauYYs"
      },
      "outputs": [],
      "source": [
        "def predict_rating(user_id, product_name):\n",
        "    # Get user profile (default to zeros if not found) and product embedding (default to zeros if not found)\n",
        "    user_profile = user_profiles.get(user_id, np.zeros(model.config.hidden_size))\n",
        "    product_embedding = product_embeddings.get(product_name, np.zeros(model.config.hidden_size))\n",
        "\n",
        "    # Calculate cosine similarity between user profile and product embedding\n",
        "    similarity = cosine_similarity([user_profile], [product_embedding])[0][0]\n",
        "\n",
        "    # Rescale similarity to predicted rating range (1 to 5) using Min-Max scaling\n",
        "    return similarity\n",
        "\n",
        "# Apply predict_rating function to each row in the validation data to compute similarity\n",
        "val_data['similarity'] = val_data.apply(lambda row: predict_rating(row['user_id'], row['product_name']), axis=1)\n",
        "\n",
        "# Scale similarity scores to the range of predicted ratings (1 to 5) using Min-Max scaling\n",
        "scaler = MinMaxScaler(feature_range=(1, 5))\n",
        "val_data['predicted_rating'] = scaler.fit_transform(val_data[['similarity']].values.reshape(-1, 1))\n"
      ]
    },
    {
      "cell_type": "code",
      "execution_count": null,
      "metadata": {
        "colab": {
          "base_uri": "https://localhost:8080/"
        },
        "id": "jhedlPpRucBA",
        "outputId": "12766bd0-487a-47b3-9b19-bd94e3da52b7"
      },
      "outputs": [
        {
          "name": "stdout",
          "output_type": "stream",
          "text": [
            "RMSE: 1.9178004259039902\n",
            "MAE: 1.4010473490648736\n",
            "Precision@K: 0.8\n",
            "Recall@K: 0.00013006226731047488\n"
          ]
        }
      ],
      "source": [
        "actual_ratings = val_data['rating']\n",
        "predicted_ratings = val_data['predicted_rating']\n",
        "rmse = np.sqrt(mean_squared_error(actual_ratings, predicted_ratings))\n",
        "mae = mean_absolute_error(actual_ratings, predicted_ratings)\n",
        "\n",
        "# Define K and compute Precision@K and Recall@K\n",
        "K = 10\n",
        "predictions_df = val_data[['rating', 'predicted_rating']].sort_values(by='predicted_rating', ascending=False)\n",
        "top_k_predictions = predictions_df.head(K)\n",
        "relevant_items = predictions_df[predictions_df['rating'] >= 4]\n",
        "relevant_top_k = top_k_predictions[top_k_predictions['rating'] >= 4]\n",
        "\n",
        "precision_at_k = len(relevant_top_k) / K\n",
        "recall_at_k = len(relevant_top_k) / len(relevant_items) if len(relevant_items) > 0 else 0\n",
        "\n",
        "# Compile results\n",
        "results = {\n",
        "    'RMSE': rmse,\n",
        "    'MAE': mae,\n",
        "    'Precision@K': precision_at_k,\n",
        "    'Recall@K': recall_at_k\n",
        "}\n",
        "\n",
        "print(\"RMSE:\", results['RMSE'])\n",
        "print(\"MAE:\", results['MAE'])\n",
        "print(\"Precision@K:\", results['Precision@K'])\n",
        "print(\"Recall@K:\", results['Recall@K'])\n"
      ]
    },
    {
      "cell_type": "markdown",
      "metadata": {
        "id": "SK4kc4zn0WR7"
      },
      "source": [
        "## Collaborative Based Filtering"
      ]
    },
    {
      "cell_type": "markdown",
      "metadata": {
        "id": "M-_zcJulveU4"
      },
      "source": [
        "In this section, I try three approaches to compute collaborative-based filtering: SVD,KNN and Neural Network. Based on the result, I choose SVD and Neural Network  as the best collaborative filtering techniques to be combined in the hybrid approach."
      ]
    },
    {
      "cell_type": "markdown",
      "metadata": {
        "id": "rvJ7hML9ygxK"
      },
      "source": [
        "### SVD"
      ]
    },
    {
      "cell_type": "code",
      "execution_count": 7,
      "metadata": {
        "colab": {
          "base_uri": "https://localhost:8080/",
          "height": 0
        },
        "id": "wllAfvFWGeYP",
        "outputId": "38ede5a9-d1c5-40ca-af6e-b292a47891dc"
      },
      "outputs": [
        {
          "name": "stdout",
          "output_type": "stream",
          "text": [
            "Testing min_interactions = 3: Average RMSE = 0.8847115869640815\n",
            "Testing min_interactions = 5: Average RMSE = 0.8844396715501098\n",
            "Testing min_interactions = 10: Average RMSE = 0.8845233938746002\n",
            "Testing min_interactions = 20: Average RMSE = 0.8834911614316766\n",
            "Optimal min_interactions: 20 with RMSE: 0.8834911614316766\n"
          ]
        }
      ],
      "source": [
        "reader = Reader(rating_scale=(1, 5))\n",
        "\n",
        "# Load data from DataFrame\n",
        "data = Dataset.load_from_df(train_data[['user_id', 'product_name', 'rating']], reader)\n",
        "\n",
        "# Define range of minimum interactions to test\n",
        "min_interactions_range = [3, 5, 10, 20]\n",
        "best_rmse = float('inf')\n",
        "optimal_min_interactions = 0\n",
        "\n",
        "# Iterate over each minimum interaction threshold\n",
        "for min_interactions in min_interactions_range:\n",
        "    # Build the full trainset from data\n",
        "    full_trainset = data.build_full_trainset()\n",
        "    # Count interactions per user\n",
        "    user_interactions_count = {uid: len(full_trainset.ur[uid]) for uid in full_trainset.all_users()}\n",
        "    # Filter users who meet the minimum interaction threshold\n",
        "    filtered_users = [uid for uid, counts in user_interactions_count.items() if counts >= min_interactions]\n",
        "\n",
        "    # Create filtered DataFrame based on the users\n",
        "    filtered_data = train_data[train_data['user_id'].isin(filtered_users)]\n",
        "    if filtered_data.empty:\n",
        "        print(f\"No data for min_interactions = {min_interactions}. Skipping...\")\n",
        "        continue\n",
        "\n",
        "    # Load filtered data into Surprise dataset\n",
        "    filtered_dataset = Dataset.load_from_df(filtered_data[['user_id', 'product_name', 'rating']], reader)\n",
        "    # Initialize SVD algorithm\n",
        "    svd = SVD()\n",
        "    # Perform cross-validation\n",
        "    results = cross_validate(svd, filtered_dataset, measures=['RMSE'], cv=3, verbose=False)\n",
        "    # Calculate average RMSE\n",
        "    avg_rmse = sum(results['test_rmse']) / len(results['test_rmse'])\n",
        "\n",
        "    print(f\"Testing min_interactions = {min_interactions}: Average RMSE = {avg_rmse}\")\n",
        "    # Update best RMSE and optimal minimum interactions if current RMSE is better\n",
        "    if avg_rmse < best_rmse:\n",
        "        best_rmse = avg_rmse\n",
        "        optimal_min_interactions = min_interactions\n",
        "\n",
        "# Output the optimal number of interactions and corresponding RMSE\n",
        "print(f\"Optimal min_interactions: {optimal_min_interactions} with RMSE: {best_rmse}\")\n"
      ]
    },
    {
      "cell_type": "code",
      "execution_count": 8,
      "metadata": {
        "colab": {
          "base_uri": "https://localhost:8080/",
          "height": 0
        },
        "id": "ZOrdEBqGHAYi",
        "outputId": "96528991-1886-4188-d350-218925d92d83"
      },
      "outputs": [
        {
          "name": "stdout",
          "output_type": "stream",
          "text": [
            "Model saved to best_svd_model.pkl\n",
            "Model parameters saved: {'n_factors': 150, 'n_epochs': 40, 'lr_all': 0.01, 'reg_all': 0.02}\n"
          ]
        }
      ],
      "source": [
        "# Filter the data to include only users with a minimum number of interactions\n",
        "user_interaction_counts = train_data['user_id'].value_counts()\n",
        "filtered_data = train_data[train_data['user_id'].isin([uid for uid, counts in user_interaction_counts.items() if counts >= optimal_min_interactions])]\n",
        "filtered_dataset = Dataset.load_from_df(filtered_data[['user_id', 'product_name', 'rating']], reader)\n",
        "\n",
        "model_filename = 'best_svd_model.pkl'\n",
        "params_filename = 'best_svd_params.pkl'\n",
        "\n",
        "# Check if the model file already exists\n",
        "if os.path.exists(model_filename):\n",
        "    with open(model_filename, 'rb') as file:\n",
        "        best_svd_model = pickle.load(file)\n",
        "    with open(params_filename, 'rb') as file:\n",
        "        best_params = pickle.load(file)\n",
        "    print(f\"Loaded model from {model_filename}\")\n",
        "    print(f\"Model parameters: {best_params}\")\n",
        "else:\n",
        "\n",
        "    param_grid = {\n",
        "        'n_factors': [50, 100, 150],  # Number of latent factors\n",
        "        'n_epochs': [20, 30, 40],     # Number of iterations of the SGD procedure\n",
        "        'lr_all': [0.005, 0.01],      # Learning rate\n",
        "        'reg_all': [0.02, 0.1]        # Regularization term for all parameters\n",
        "    }\n",
        "    gs = GridSearchCV(SVD, param_grid, measures=['rmse', 'mae'], cv=3)\n",
        "    gs.fit(filtered_dataset)\n",
        "\n",
        "    # Get the best parameters and train the final model\n",
        "    best_params = gs.best_params['rmse']\n",
        "    trainset = filtered_dataset.build_full_trainset()\n",
        "    best_svd_model = SVD(**best_params)\n",
        "    best_svd_model.fit(trainset)\n",
        "\n",
        "    # Save the model and the parameters to files\n",
        "    with open(model_filename, 'wb') as file:\n",
        "        pickle.dump(best_svd_model, file)\n",
        "    with open(params_filename, 'wb') as file:\n",
        "        pickle.dump(best_params, file)\n",
        "\n",
        "    print(f\"Model saved to {model_filename}\")\n",
        "    print(f\"Model parameters saved: {best_params}\")\n"
      ]
    },
    {
      "cell_type": "code",
      "execution_count": 9,
      "metadata": {
        "colab": {
          "base_uri": "https://localhost:8080/",
          "height": 0
        },
        "id": "rq1Zoe5DJCnV",
        "outputId": "dbb07005-3171-4b57-868e-cd5d5bd694b5"
      },
      "outputs": [
        {
          "name": "stdout",
          "output_type": "stream",
          "text": [
            "RMSE: 0.8144\n",
            "MAE:  0.5466\n",
            "Validation RMSE: 0.814412210645889\n",
            "Validation MAE: 0.5465990130164391\n"
          ]
        }
      ],
      "source": [
        "# Splitting the filtered dataset\n",
        "trainset, valset = train_test_split(filtered_dataset, test_size=0.2)\n",
        "\n",
        "# Fit the best model on the trainset\n",
        "best_svd_model = SVD(**best_params)\n",
        "best_svd_model.fit(trainset)\n",
        "\n",
        "# Predicting and evaluating the model on the validation set\n",
        "predictions = best_svd_model.test(valset)\n",
        "rmse = accuracy.rmse(predictions)\n",
        "mae = accuracy.mae(predictions)\n",
        "\n",
        "print(f\"Validation RMSE: {rmse}\")\n",
        "print(f\"Validation MAE: {mae}\")"
      ]
    },
    {
      "cell_type": "markdown",
      "metadata": {
        "id": "zKuPX_w7zpw0"
      },
      "source": [
        "In the code below, I evaluate the learning rate of the SVD algorithm in collaborative filtering on data that has at least a minimum number of interactions. This data does not include new products or new users."
      ]
    },
    {
      "cell_type": "code",
      "execution_count": 10,
      "metadata": {
        "colab": {
          "base_uri": "https://localhost:8080/",
          "height": 487
        },
        "id": "DbFNLLMjybgU",
        "outputId": "545a81b3-d84f-4d05-82f7-12ec03af8d11"
      },
      "outputs": [
        {
          "data": {
            "image/png": "[encoded data removed]",
            "text/plain": [
              "<Figure size 1000x500 with 1 Axes>"
            ]
          },
          "metadata": {},
          "output_type": "display_data"
        }
      ],
      "source": [
        "user_counts = train_data['user_id'].value_counts()\n",
        "# Filter users with optimal min interactions\n",
        "filtered_data = train_data[train_data['user_id'].isin(user_counts[user_counts >= optimal_min_interactions].index)]\n",
        "\n",
        "# Load filtered data into surprise\n",
        "data = Dataset.load_from_df(filtered_data[['user_id', 'product_name', 'rating']], reader)\n",
        "trainset, testset = train_test_split(data, test_size=0.2, random_state=42)\n",
        "\n",
        "# Define epochs, learning rate, regularization, and number of factors ( Based on Hyper Parameter Tuning Result)\n",
        "epochs = range(10, 40, 5)\n",
        "learning_rate = 0.01\n",
        "reg_all = 0.02\n",
        "n_factors = 150\n",
        "\n",
        "train_rmse_results = []\n",
        "test_rmse_results = []\n",
        "\n",
        "# Train and evaluate the model over varying number of epochs\n",
        "for epoch in epochs:\n",
        "    model = SVD(n_epochs=epoch, lr_all=learning_rate, reg_all=reg_all, n_factors=n_factors)\n",
        "    model.fit(trainset)\n",
        "\n",
        "    # Test on the training set\n",
        "    train_predictions = model.test(trainset.build_testset())\n",
        "    train_rmse = accuracy.rmse(train_predictions, verbose=False)\n",
        "    train_rmse_results.append(train_rmse)\n",
        "\n",
        "    # Test on the test set\n",
        "    test_predictions = model.test(testset)\n",
        "    test_rmse = accuracy.rmse(test_predictions, verbose=False)\n",
        "    test_rmse_results.append(test_rmse)\n",
        "\n",
        "# Plotting the RMSE vs. Epochs for both training and testing sets\n",
        "plt.figure(figsize=(10, 5))\n",
        "plt.plot(epochs, train_rmse_results, marker='o', label='Training RMSE')\n",
        "plt.plot(epochs, test_rmse_results, marker='o', label='Validation RMSE')\n",
        "plt.title('Training and Validation RMSE vs. Number of Epochs')\n",
        "plt.xlabel('Number of Epochs')\n",
        "plt.ylabel('RMSE')\n",
        "plt.legend()\n",
        "plt.grid(True)\n",
        "plt.show()\n"
      ]
    },
    {
      "cell_type": "markdown",
      "metadata": {
        "id": "6-lBvaAbyo2i"
      },
      "source": [
        "### KNN"
      ]
    },
    {
      "cell_type": "code",
      "execution_count": null,
      "metadata": {
        "colab": {
          "base_uri": "https://localhost:8080/"
        },
        "id": "yckJI7AUHGje",
        "outputId": "1874ed47-fbce-45c5-ecbb-aa4650dd4d20"
      },
      "outputs": [
        {
          "name": "stdout",
          "output_type": "stream",
          "text": [
            "Loaded model from best_knn_model.pkl\n",
            "RMSE: 0.7339\n",
            "MAE:  0.4910\n",
            "RMSE: 0.7338560330666717, MAE: 0.4910252148282829\n"
          ]
        },
        {
          "data": {
            "text/plain": [
              "0"
            ]
          },
          "execution_count": 19,
          "metadata": {},
          "output_type": "execute_result"
        }
      ],
      "source": [
        "reader = Reader(rating_scale=(1, 5))\n",
        "\n",
        "# Filter the data based on the optimal minimum interactions\n",
        "user_interaction_counts = train_data['user_id'].value_counts()\n",
        "filtered_data = train_data[train_data['user_id'].isin(user_interaction_counts[user_interaction_counts >= optimal_min_interactions].index)]\n",
        "data = Dataset.load_from_df(filtered_data[['user_id', 'product_name', 'rating']], reader)\n",
        "trainset, valset = train_test_split(data, test_size=0.2, random_state=42)\n",
        "\n",
        "# Define the parameter grid\n",
        "param_grid = {\n",
        "    'k': [10, 20, 30],  # Number of neighbors\n",
        "    'min_k': [1, 3, 5]  # Minimum number of neighbors\n",
        "}\n",
        "\n",
        "model_filename = 'best_knn_model.pkl'\n",
        "\n",
        "# Check if the model already exists\n",
        "if os.path.exists(model_filename):\n",
        "    with open(model_filename, 'rb') as file:\n",
        "        best_knn_model = pickle.load(file)\n",
        "    print(f\"Loaded model from {model_filename}\")\n",
        "else:\n",
        "    # Perform grid search\n",
        "    gs = GridSearchCV(KNNBasic, param_grid, measures=['rmse', 'mae'], cv=3)\n",
        "    gs.fit(data)\n",
        "\n",
        "    # Best model parameters\n",
        "    best_params = gs.best_params['rmse']\n",
        "    print(\"Best parameters:\", best_params)\n",
        "\n",
        "    # Train the final model using best parameters on the entire training set\n",
        "    best_knn_model = KNNBasic(k=best_params['k'], min_k=best_params['min_k'])\n",
        "    best_knn_model.fit(trainset)\n",
        "\n",
        "    # Save the model to a file\n",
        "    with open(model_filename, 'wb') as file:\n",
        "        pickle.dump(best_knn_model, file)\n",
        "    print(f\"Model saved to {model_filename}\")\n",
        "\n",
        "# Evaluate the model on the validation set\n",
        "predictions = best_knn_model.test(valset)\n",
        "rmse = accuracy.rmse(predictions)\n",
        "mae = accuracy.mae(predictions)\n",
        "\n",
        "print(f'RMSE: {rmse}, MAE: {mae}')\n",
        "\n",
        "# Cleanup\n",
        "gc.collect()\n"
      ]
    },
    {
      "cell_type": "code",
      "execution_count": null,
      "metadata": {
        "colab": {
          "base_uri": "https://localhost:8080/",
          "height": 541
        },
        "id": "74b5ucl-ytgR",
        "outputId": "baecebe6-5cf0-408d-aa37-ae4615429302"
      },
      "outputs": [
        {
          "name": "stdout",
          "output_type": "stream",
          "text": [
            "Computing the cosine similarity matrix...\n",
            "Done computing similarity matrix.\n",
            "Training RMSE: 0.9367614627542047\n",
            "Validation RMSE: 1.0413928641414711\n"
          ]
        },
        {
          "data": {
            "image/png": "[encoded data removed]",
            "text/plain": [
              "<Figure size 500x500 with 1 Axes>"
            ]
          },
          "metadata": {},
          "output_type": "display_data"
        }
      ],
      "source": [
        "reader = Reader(rating_scale=(1, 5))\n",
        "user_counts = train_data['user_id'].value_counts()\n",
        "filtered_data = train_data[train_data['user_id'].isin(user_counts[user_counts >= 3].index)]\n",
        "trainset, testset = train_test_split(data, test_size=0.2, random_state=42)\n",
        "\n",
        "data = Dataset.load_from_df(filtered_data[['user_id', 'product_name', 'rating']], reader)\n",
        "trainset, testset = train_test_split(data, test_size=0.2, random_state=42)\n",
        "\n",
        "# KNN parameters\n",
        "k = 10\n",
        "min_k = 3\n",
        "\n",
        "# Train KNN model\n",
        "model = KNNBasic(k=k, min_k=min_k, sim_options={'name': 'cosine', 'user_based': True})\n",
        "model.fit(trainset)\n",
        "\n",
        "# Evaluate the model on a given dataset and return RMSE\n",
        "def evaluate_model(model, testset):\n",
        "    predictions = model.test(testset)\n",
        "    return accuracy.rmse(predictions, verbose=False)\n",
        "\n",
        "# Store RMSE results\n",
        "train_rmse = evaluate_model(model, trainset.build_testset())\n",
        "test_rmse = evaluate_model(model, testset)\n",
        "\n",
        "# Output results\n",
        "print(f\"Training RMSE: {train_rmse}\")\n",
        "print(f\"Validation RMSE: {test_rmse}\")\n",
        "\n",
        "# Plot The Figure\n",
        "plt.figure(figsize=(5, 5))\n",
        "plt.bar(['Training', 'Validation'], [train_rmse, test_rmse], color=['blue', 'green'])\n",
        "plt.title('KNN Model Performance')\n",
        "plt.ylabel('RMSE')\n",
        "plt.show()\n"
      ]
    },
    {
      "cell_type": "markdown",
      "metadata": {
        "id": "T3xc2UvRyxkd"
      },
      "source": [
        "### Neural Network"
      ]
    },
    {
      "cell_type": "code",
      "execution_count": null,
      "metadata": {
        "id": "1xOhkY15mwUy"
      },
      "outputs": [],
      "source": [
        "from sklearn.model_selection import train_test_split\n",
        "\n",
        "# Function to compute a product embedding from its name using Word2Vec.\n",
        "# It also concatenates additional features like helpful_votes and votes to the embedding.\n",
        "def compute_product_embedding(row, model):\n",
        "    # Split product name into individual words\n",
        "    words = row['product_name'].split()\n",
        "    # Retrieve the Word2Vec embedding for each word if it exists in the model's vocabulary\n",
        "    word_vectors = [model.wv[word] for word in words if word in model.wv.key_to_index]\n",
        "    # Average the embeddings to get a single representation for the product\n",
        "    if word_vectors:\n",
        "        embedding = np.mean(word_vectors, axis=0)\n",
        "    else:\n",
        "        # Use a zero vector if the product name contains no words found in the Word2Vec model\n",
        "        embedding = np.zeros(model.vector_size)\n",
        "    # Return the final product embedding with votes and helpful votes appended\n",
        "    return np.concatenate([embedding, [row['helpful_votes'], row['votes']]])\n",
        "\n",
        "# Function to compute embeddings for all products in batches to manage memory usage efficiently.\n",
        "def compute_embeddings_in_batches(data, model, batch_size=100):\n",
        "    product_embeddings = {}\n",
        "    # Iterate through the data in batches\n",
        "    for start in range(0, data.shape[0], batch_size):\n",
        "        end = start + batch_size\n",
        "        batch = data.iloc[start:end]\n",
        "        # Compute and store the embedding for each product in the batch\n",
        "        for _, row in batch.iterrows():\n",
        "            product_embeddings[row['product_name']] = compute_product_embedding(row, model)\n",
        "    return product_embeddings\n",
        "\n",
        "# Function to compute user profiles based on the product embeddings they have interacted with,\n",
        "# weighted by their ratings, and done in batches.\n",
        "def compute_user_profiles_in_batches(data, product_embeddings, word2vec_size, batch_size=100):\n",
        "    user_profiles = {}\n",
        "    # Get unique user IDs to process in batches\n",
        "    users = data['user_id'].unique()\n",
        "    for start in range(0, len(users), batch_size):\n",
        "        end = start + batch_size\n",
        "        user_batch = users[start:end]\n",
        "        # Compute each user's profile as the mean of their rated product embeddings\n",
        "        for user in user_batch:\n",
        "            user_ratings = data[data['user_id'] == user]\n",
        "            weighted_embeddings = []\n",
        "            for _, row in user_ratings.iterrows():\n",
        "                # Use precomputed product embeddings or a zero vector if not available\n",
        "                product_embedding = product_embeddings.get(row['product_name'], np.zeros(word2vec_size + 2))\n",
        "                weighted_embedding = product_embedding * row['rating']\n",
        "                weighted_embeddings.append(weighted_embedding)\n",
        "            # Average the embeddings to form the user profile\n",
        "            if weighted_embeddings:\n",
        "                user_profiles[user] = np.mean(weighted_embeddings, axis=0)\n",
        "            else:\n",
        "                user_profiles[user] = np.zeros(word2vec_size + 2)\n",
        "    return user_profiles\n",
        "\n",
        "# Split the data into training and validation sets\n",
        "trainset, valset = train_test_split(train_data, test_size=0.2, random_state=42)\n",
        "\n",
        "# Train a Word2Vec model on unique product names\n",
        "sentences = [name.split() for name in train_data['product_name'].unique()]\n",
        "word2vec_model = Word2Vec(sentences, vector_size=300, window=5, min_count=1, workers=4)\n",
        "\n",
        "# Compute product embeddings using the trained Word2Vec model\n",
        "product_embeddings = compute_embeddings_in_batches(train_data, word2vec_model, batch_size=100)\n",
        "\n",
        "# Compute user profiles using the computed product embeddings\n",
        "user_profiles = compute_user_profiles_in_batches(train_data, product_embeddings, word2vec_model.vector_size, batch_size=100)\n"
      ]
    },
    {
      "cell_type": "code",
      "execution_count": null,
      "metadata": {
        "colab": {
          "base_uri": "https://localhost:8080/"
        },
        "id": "i7bhfPCRMvsX",
        "outputId": "70776a7f-dedc-4fe8-cb4b-4f722eb35519"
      },
      "outputs": [
        {
          "name": "stdout",
          "output_type": "stream",
          "text": [
            "Model: \"model\"\n",
            "__________________________________________________________________________________________________\n",
            " Layer (type)                Output Shape                 Param #   Connected to                  \n",
            "==================================================================================================\n",
            " input_1 (InputLayer)        [(None, 1)]                  0         []                            \n",
            "                                                                                                  \n",
            " input_2 (InputLayer)        [(None, 1)]                  0         []                            \n",
            "                                                                                                  \n",
            " embedding (Embedding)       (None, 1, 70)                140070    ['input_1[0][0]']             \n",
            "                                                                                                  \n",
            " embedding_1 (Embedding)     (None, 1, 70)                1246266   ['input_2[0][0]']             \n",
            "                                                          0                                       \n",
            "                                                                                                  \n",
            " flatten (Flatten)           (None, 70)                   0         ['embedding[0][0]']           \n",
            "                                                                                                  \n",
            " flatten_1 (Flatten)         (None, 70)                   0         ['embedding_1[0][0]']         \n",
            "                                                                                                  \n",
            " input_3 (InputLayer)        [(None, 1)]                  0         []                            \n",
            "                                                                                                  \n",
            " input_4 (InputLayer)        [(None, 1)]                  0         []                            \n",
            "                                                                                                  \n",
            " concatenate (Concatenate)   (None, 142)                  0         ['flatten[0][0]',             \n",
            "                                                                     'flatten_1[0][0]',           \n",
            "                                                                     'input_3[0][0]',             \n",
            "                                                                     'input_4[0][0]']             \n",
            "                                                                                                  \n",
            " dense (Dense)               (None, 192)                  27456     ['concatenate[0][0]']         \n",
            "                                                                                                  \n",
            " dropout (Dropout)           (None, 192)                  0         ['dense[0][0]']               \n",
            "                                                                                                  \n",
            " dense_1 (Dense)             (None, 96)                   18528     ['dropout[0][0]']             \n",
            "                                                                                                  \n",
            " dense_2 (Dense)             (None, 1)                    97        ['dense_1[0][0]']             \n",
            "                                                                                                  \n",
            "==================================================================================================\n",
            "Total params: 12648811 (48.25 MB)\n",
            "Trainable params: 12648811 (48.25 MB)\n",
            "Non-trainable params: 0 (0.00 Byte)\n",
            "__________________________________________________________________________________________________\n"
          ]
        }
      ],
      "source": [
        "# Set random seeds for reproducibility\n",
        "np.random.seed(42)\n",
        "tf.random.set_seed(42)\n",
        "\n",
        "class NeuralCollaborativeFilteringHyperModel(HyperModel):\n",
        "    def __init__(self, num_users, num_items):\n",
        "        # Initialize with number of users and items\n",
        "        self.num_users = num_users\n",
        "        self.num_items = num_items\n",
        "\n",
        "    def build(self, hp):\n",
        "        # Define model inputs\n",
        "        user_input = Input(shape=(1,))\n",
        "        item_input = Input(shape=(1,))\n",
        "        votes_input = Input(shape=(1,))\n",
        "        helpful_votes_input = Input(shape=(1,))\n",
        "\n",
        "        embedding_size = hp.Int('embedding_size', min_value=50, max_value=100, step=20)\n",
        "        user_embedding = Embedding(input_dim=self.num_users + 1, output_dim=embedding_size)(user_input)\n",
        "        item_embedding = Embedding(input_dim=self.num_items + 1, output_dim=embedding_size)(item_input)\n",
        "\n",
        "        # Flatten embeddings\n",
        "        user_vector = Flatten()(user_embedding)\n",
        "        item_vector = Flatten()(item_embedding)\n",
        "\n",
        "        # Concatenate user and item vectors with additional inputs\n",
        "        concat = Concatenate()([user_vector, item_vector, votes_input, helpful_votes_input])\n",
        "\n",
        "        # Define dense layer size as a hyperparameter\n",
        "        dense_units = hp.Int('dense_units', min_value=64, max_value=256, step=64)\n",
        "        dense = Dense(dense_units, activation='relu')(concat)\n",
        "\n",
        "        # Define dropout rate as a hyperparameter\n",
        "        dropout_rate = hp.Float('dropout_rate', min_value=0.1, max_value=0.5, step=0.1)\n",
        "        dropout = Dropout(dropout_rate)(dense)\n",
        "\n",
        "        # Second dense layer with half the size of the first\n",
        "        dense = Dense(dense_units // 2, activation='relu')(dropout)\n",
        "\n",
        "        # Output layer for predicting the rating\n",
        "        output = Dense(1, activation='linear')(dense)\n",
        "\n",
        "        # Compile model\n",
        "        model = Model(inputs=[user_input, item_input, votes_input, helpful_votes_input], outputs=output)\n",
        "        model.compile(optimizer=Adam(learning_rate=0.001), loss='mean_squared_error')\n",
        "        return model\n",
        "\n",
        "# Prepare dataset\n",
        "num_users = train_data['user_id'].max() + 1\n",
        "num_items = train_data['product_id'].max() + 1\n",
        "\n",
        "# Prepare training and validation data arrays\n",
        "user_ids = trainset['user_id'].values\n",
        "product_ids = trainset['product_id'].values\n",
        "votes = trainset['votes'].values\n",
        "helpful_votes = trainset['helpful_votes'].values\n",
        "ratings = trainset['rating'].values\n",
        "\n",
        "val_user_ids = valset['user_id'].values\n",
        "val_product_ids = valset['product_id'].values\n",
        "val_votes = valset['votes'].values\n",
        "val_helpful_votes = valset['helpful_votes'].values\n",
        "val_ratings = valset['rating'].values\n",
        "\n",
        "# Path to save the best model\n",
        "model_path = 'neural.h5'\n",
        "if os.path.exists(model_path):\n",
        "    # Load the best model if it already exists\n",
        "    best_model = load_model(model_path)\n",
        "else:\n",
        "    # Create a hypermodel instance\n",
        "    hypermodel = NeuralCollaborativeFilteringHyperModel(num_users=num_users, num_items=num_items)\n",
        "    # Set up the tuner\n",
        "    tuner = RandomSearch(\n",
        "        hypermodel,\n",
        "        objective='val_loss',\n",
        "        max_trials=5,\n",
        "        executions_per_trial=1,\n",
        "        directory='my_dir',\n",
        "        project_name='ncf'\n",
        "    )\n",
        "    # Run the search\n",
        "    tuner.search(\n",
        "        [user_ids, product_ids, votes, helpful_votes], ratings,\n",
        "        validation_data=([val_user_ids, val_product_ids, val_votes, val_helpful_votes], val_ratings),\n",
        "        epochs=10,\n",
        "        batch_size=32\n",
        "    )\n",
        "\n",
        "    # Get and save the best model from the tuner\n",
        "    best_model = tuner.get_best_models(num_models=1)[0]\n",
        "    best_model.save(model_path)\n",
        "\n",
        "# Print model summary\n",
        "best_model.summary()\n"
      ]
    },
    {
      "cell_type": "code",
      "execution_count": null,
      "metadata": {
        "colab": {
          "base_uri": "https://localhost:8080/"
        },
        "id": "qZPTtA6hPorC",
        "outputId": "e562f95d-ef37-4da8-9f44-5471b8dbe80e"
      },
      "outputs": [
        {
          "name": "stdout",
          "output_type": "stream",
          "text": [
            "Root Mean Squared Error: 0.9811855392534777\n",
            "Mean Absolute Error: 0.7395616639926117\n"
          ]
        }
      ],
      "source": [
        "average_user_ratings = train_data.groupby('user_id')['rating'].mean().to_dict()\n",
        "global_average_rating = train_data['rating'].mean()\n",
        "\n",
        "val_data['predicted_rating'] = 0\n",
        "# Predict ratings for known products\n",
        "for index, row in val_data.iterrows():\n",
        "    user_id = row['user_id']\n",
        "    product_id = row['product_id']\n",
        "    votes = row['votes']\n",
        "    helpful_votes = row['helpful_votes']\n",
        "\n",
        "    if product_id in product_embeddings:\n",
        "        user_input = np.array([user_id])\n",
        "        product_input = np.array([product_id])\n",
        "        votes_input = np.array([votes])\n",
        "        helpful_votes_input = np.array([helpful_votes])\n",
        "        # Predict using the model\n",
        "        predicted_rating = best_model.predict([user_input, product_input, votes_input, helpful_votes_input])\n",
        "        val_data.at[index, 'predicted_rating'] = predicted_rating.flatten()[0]\n",
        "    else:\n",
        "        # Average user rating if the product is unknown\n",
        "        val_data.at[index, 'predicted_rating'] = average_user_ratings.get(user_id, global_average_rating)\n",
        "# Handle missing votes and helpful votes if they're not available in val_data\n",
        "if 'votes' not in val_data:\n",
        "    val_votes = np.zeros(len(val_user_ids))\n",
        "    val_votes = val_data['votes'].values\n",
        "\n",
        "if 'helpful_votes' not in val_data:\n",
        "    val_helpful_votes = np.zeros(len(val_user_ids))\n",
        "else:\n",
        "    val_helpful_votes = val_data['helpful_votes'].values\n",
        "\n",
        "true_ratings = val_data['rating'].values\n",
        "predicted_ratings = val_data['predicted_rating'].values\n",
        "\n",
        "# Calculate RMSE\n",
        "rmse = np.sqrt(mean_squared_error(true_ratings, predicted_ratings))\n",
        "# Calculate MAE\n",
        "mae = mean_absolute_error(true_ratings, predicted_ratings)\n",
        "\n",
        "print(\"Root Mean Squared Error:\", rmse)\n",
        "print(\"Mean Absolute Error:\", mae)\n"
      ]
    },
    {
      "cell_type": "markdown",
      "metadata": {
        "id": "hdX0cSgqy358"
      },
      "source": [
        "## Hybrid Based Filtering"
      ]
    },
    {
      "cell_type": "markdown",
      "metadata": {
        "id": "dt0u9mDavyJq"
      },
      "source": [
        "In this section, I tested two approaches, Word2Vec+SVD .\n",
        "I evaluate it by using RMSE,MAE in validation and RMSE on Kaggle."
      ]
    },
    {
      "cell_type": "markdown",
      "metadata": {
        "id": "chWLL2RYzC-X"
      },
      "source": [
        "### Word2Vec+SVD"
      ]
    },
    {
      "cell_type": "code",
      "execution_count": 11,
      "metadata": {
        "id": "6Xmh_pGAzH4e"
      },
      "outputs": [],
      "source": [
        "# Function to compute the embedding for a product based on its name.\n",
        "# Embeddings are computed by averaging the Word2Vec vectors of the words in the product name.\n",
        "# Additional features, helpful_votes and votes, are concatenated to the final embedding.\n",
        "def compute_product_embedding(row, model):\n",
        "    # Split the product name into words\n",
        "    words = row['product_name'].split()\n",
        "    # Gather Word2Vec embeddings for words present in the model's vocabulary\n",
        "    word_vectors = [model.wv[word] for word in words if word in model.wv.key_to_index]\n",
        "    # Calculate the mean of these vectors if any exist, otherwise use a zero vector\n",
        "    if word_vectors:\n",
        "        embedding = np.mean(word_vectors, axis=0)\n",
        "    else:\n",
        "        embedding = np.zeros(model.vector_size)\n",
        "    # Return the combined embedding vector, including additional features\n",
        "    return np.concatenate([embedding, [row['helpful_votes'], row['votes']]])\n",
        "\n",
        "# Function to compute product embeddings for all products in batches.\n",
        "def compute_embeddings_in_batches(data, model, batch_size=100):\n",
        "    product_embeddings = {}\n",
        "    # Process each batch of products\n",
        "    for start in range(0, data.shape[0], batch_size):\n",
        "        end = start + batch_size\n",
        "        batch = data.iloc[start:end]\n",
        "        # Compute and store embeddings for each product in the batch\n",
        "        for _, row in batch.iterrows():\n",
        "            product_embeddings[row['product_name']] = compute_product_embedding(row, model)\n",
        "    return product_embeddings\n",
        "\n",
        "# Function to compute user profiles as the average of weighted product embeddings they've rated,\n",
        "# in batches.\n",
        "def compute_user_profiles_in_batches(data, product_embeddings, word2vec_size, batch_size=100):\n",
        "    user_profiles = {}\n",
        "    users = data['user_id'].unique()\n",
        "    # Process each batch of users\n",
        "    for start in range(0, len(users), batch_size):\n",
        "        end = start + batch_size\n",
        "        user_batch = users[start:end]\n",
        "        # Compute user profiles for each user in the batch\n",
        "        for user in user_batch:\n",
        "            user_ratings = data[data['user_id'] == user]\n",
        "            weighted_embeddings = []\n",
        "            # Compute weighted product embeddings based on user ratings\n",
        "            for _, row in user_ratings.iterrows():\n",
        "                product_embedding = product_embeddings.get(row['product_name'], np.zeros(word2vec_size + 2))\n",
        "                weighted_embedding = product_embedding * row['rating']\n",
        "                weighted_embeddings.append(weighted_embedding)\n",
        "            # Average these weighted embeddings to form the user profile\n",
        "            if weighted_embeddings:\n",
        "                user_profiles[user] = np.mean(weighted_embeddings, axis=0)\n",
        "            else:\n",
        "                user_profiles[user] = np.zeros(word2vec_size + 2)\n",
        "    return user_profiles\n",
        "\n",
        "# Assuming 'Dataset' and 'train_test_split' are from a library such as Surprise\n",
        "data = Dataset.load_from_df(train_data[['user_id', 'product_name', 'rating']], reader)\n",
        "\n",
        "# Split data into training and validation sets\n",
        "trainset, valset = train_test_split(data, test_size=0.2, random_state=42)\n",
        "\n",
        "# Train a Word2Vec model on product names\n",
        "sentences = [name.split() for name in train_data['product_name'].unique()]\n",
        "word2vec_model = Word2Vec(sentences, vector_size=300, window=5, min_count=1, workers=4)\n",
        "\n",
        "# Compute embeddings for products\n",
        "product_embeddings = compute_embeddings_in_batches(train_data, word2vec_model, batch_size=100)\n",
        "\n",
        "# Compute user profiles\n",
        "user_profiles = compute_user_profiles_in_batches(train_data, product_embeddings, word2vec_model.vector_size, batch_size=100)\n"
      ]
    },
    {
      "cell_type": "code",
      "execution_count": 12,
      "metadata": {
        "colab": {
          "base_uri": "https://localhost:8080/",
          "height": 0
        },
        "collapsed": true,
        "id": "6IZ56tQwJp-u",
        "outputId": "b819dd92-2f0f-43bb-d2f5-ddb76e0a10b3"
      },
      "outputs": [
        {
          "name": "stdout",
          "output_type": "stream",
          "text": [
            "Validation RMSE: 0.46068627680699276, Validation MAE: 0.24001974363945588\n"
          ]
        }
      ],
      "source": [
        "# Function to predict ratings using a combination of SVD model predictions and similarity-based predictions.\n",
        "# It switches methods based on the number of user interactions.\n",
        "def batch_switching_predict(user_ids, product_names, svd_model, user_profiles, product_embeddings, avg_rating, data, min_interactions):\n",
        "    predictions = []\n",
        "    for user_id, product_name in zip(user_ids, product_names):\n",
        "        # Count the number of interactions for the user\n",
        "        user_interactions = data[data['user_id'] == user_id].shape[0]\n",
        "        if user_interactions >= min_interactions:\n",
        "            try:\n",
        "                # Try to predict using the SVD model\n",
        "                prediction = svd_model.predict(user_id, product_name).est\n",
        "            except:\n",
        "                # If SVD model fails, use average user rating if available, otherwise use global average\n",
        "                user_ratings = data[data['user_id'] == user_id]['rating']\n",
        "                if not user_ratings.empty:\n",
        "                    prediction = user_ratings.mean()\n",
        "                else:\n",
        "                    prediction = avg_rating\n",
        "        else:\n",
        "            # For users with few interactions, use similarity-based predictions\n",
        "            prediction = predict_similarity_rating(user_id, product_name, user_profiles, product_embeddings, avg_rating, data)\n",
        "        predictions.append(prediction)\n",
        "    return predictions\n",
        "\n",
        "# Function to predict ratings based on product similarity, using user profiles or global average.\n",
        "def predict_similarity_rating(user_id, product_name, user_profiles, product_embeddings, avg_rating, train_data):\n",
        "    if product_name not in product_embeddings:\n",
        "        # Handle case where product is not in embeddings\n",
        "        return avg_rating\n",
        "    target_product_embedding = product_embeddings[product_name]\n",
        "    if user_id not in user_profiles:\n",
        "        # Calculate cosine similarities between the target product and all other products\n",
        "        similarities = cosine_similarity([target_product_embedding], list(product_embeddings.values()))[0]\n",
        "        product_names = list(product_embeddings.keys())\n",
        "        weighted_ratings_sum = 0\n",
        "        similarity_sum = 0\n",
        "        # Aggregate weighted ratings based on similarity\n",
        "        for similarity, product in zip(similarities, product_names):\n",
        "            if product in user_profiles.get(user_id, {}):\n",
        "                weighted_ratings_sum += similarity * user_profiles[user_id][product]\n",
        "                similarity_sum += similarity\n",
        "        if similarity_sum == 0:\n",
        "            return avg_rating\n",
        "        return weighted_ratings_sum / similarity_sum\n",
        "    user_profile = user_profiles[user_id]\n",
        "    # Similar calculation as above, for known user profiles\n",
        "    similarities = cosine_similarity([target_product_embedding], list(product_embeddings.values()))[0]\n",
        "    product_names = list(product_embeddings.keys())\n",
        "    weighted_ratings_sum = 0\n",
        "    similarity_sum = 0\n",
        "    for similarity, product in zip(similarities, product_names):\n",
        "        if product in user_profile:\n",
        "            weighted_ratings_sum += similarity * user_profile[product]\n",
        "            similarity_sum += similarity\n",
        "    if similarity_sum == 0:\n",
        "        return avg_rating\n",
        "    return weighted_ratings_sum / similarity_sum\n",
        "\n",
        "# Compute the average rating from the training data\n",
        "avg_rating = train_data['rating'].mean()\n",
        "\n",
        "# Prepare validation data from the validation set\n",
        "valset_df = pd.DataFrame(valset, columns=['user_id', 'product_name', 'rating'])\n",
        "\n",
        "# Extract user IDs and product names for the prediction\n",
        "val_user_ids = valset_df['user_id'].tolist()\n",
        "val_product_names = valset_df['product_name'].tolist()\n",
        "\n",
        "# Use the batch switching method to predict ratings for the validation set\n",
        "val_predictions = batch_switching_predict(val_user_ids, val_product_names, best_svd_model, user_profiles, product_embeddings, avg_rating, train_data, optimal_min_interactions)\n",
        "\n",
        "# Append the predictions to the validation DataFrame\n",
        "valset_df['predicted_rating'] = val_predictions\n",
        "\n",
        "# Calculate RMSE and MAE for validation\n",
        "actual = valset_df['rating'].tolist()\n",
        "predicted = valset_df['predicted_rating'].tolist()\n",
        "rmse_val = sqrt(mean_squared_error(actual, predicted))\n",
        "mae_val = mean_absolute_error(actual, predicted)\n",
        "\n",
        "# Print RMSE and MAE values\n",
        "print(f'Validation RMSE: {rmse_val}, Validation MAE: {mae_val}')\n"
      ]
    },
    {
      "cell_type": "code",
      "execution_count": null,
      "metadata": {
        "id": "jnHDXPwvJuqN"
      },
      "outputs": [],
      "source": [
        "predictions = batch_switching_predict(test_data['user_id'], test_data['product_name'], best_svd_model, user_profiles, product_embeddings, avg_rating, train_data,optimal_min_interactions)\n",
        "\n",
        "# Update test_data with predictions\n",
        "test_data['rating'] = predictions\n",
        "\n",
        "# Write predictions to CSV\n",
        "test_data[['ID', 'rating']].to_csv('predicted_ratings_svd.csv', index=False)\n",
        "\n",
        "# Clear unused variables and collect garbage\n",
        "del product_embeddings, user_profiles, word2vec_model, best_svd_model, trainset, data\n",
        "gc.collect()"
      ]
    }
  ],
  "metadata": {
    "accelerator": "GPU",
    "colab": {
      "collapsed_sections": [
        "GDcjM-Qj2V6Z",
        "w5rTk8Bw2hrs",
        "QiXWPyOzyIK8",
        "olLLUFqtQr02",
        "UjOaGFwVQxzn"
      ],
      "gpuType": "T4",
      "machine_shape": "hm",
      "provenance": []
    },
    "kernelspec": {
      "display_name": "Python 3",
      "name": "python3"
    },
    "language_info": {
      "name": "python"
    },
    "widgets": {
      "application/vnd.jupyter.widget-state+json": {
        "062452a4bdc7495f94a0d515effe3200": {
          "model_module": "@jupyter-widgets/controls",
          "model_module_version": "1.5.0",
          "model_name": "ProgressStyleModel",
          "state": {
            "_model_module": "@jupyter-widgets/controls",
            "_model_module_version": "1.5.0",
            "_model_name": "ProgressStyleModel",
            "_view_count": null,
            "_view_module": "@jupyter-widgets/base",
            "_view_module_version": "1.2.0",
            "_view_name": "StyleView",
            "bar_color": null,
            "description_width": ""
          }
        },
        "0694e56b9b284e3699c001f69bab1968": {
          "model_module": "@jupyter-widgets/controls",
          "model_module_version": "1.5.0",
          "model_name": "FloatProgressModel",
          "state": {
            "_dom_classes": [],
            "_model_module": "@jupyter-widgets/controls",
            "_model_module_version": "1.5.0",
            "_model_name": "FloatProgressModel",
            "_view_count": null,
            "_view_module": "@jupyter-widgets/controls",
            "_view_module_version": "1.5.0",
            "_view_name": "ProgressView",
            "bar_style": "success",
            "description": "",
            "description_tooltip": null,
            "layout": "IPY_MODEL_d2bb00ca10dc40ae8aa2ae10df7a7e62",
            "max": 570,
            "min": 0,
            "orientation": "horizontal",
            "style": "IPY_MODEL_8d5bda789c434c7c9410d15aeb5584de",
            "value": 570
          }
        },
        "0c66b6847a11449094c0acfb5adcf40e": {
          "model_module": "@jupyter-widgets/controls",
          "model_module_version": "1.5.0",
          "model_name": "HBoxModel",
          "state": {
            "_dom_classes": [],
            "_model_module": "@jupyter-widgets/controls",
            "_model_module_version": "1.5.0",
            "_model_name": "HBoxModel",
            "_view_count": null,
            "_view_module": "@jupyter-widgets/controls",
            "_view_module_version": "1.5.0",
            "_view_name": "HBoxView",
            "box_style": "",
            "children": [
              "IPY_MODEL_627321adb946499a95e3934f44d6c2bc",
              "IPY_MODEL_3ae5d4b975094aaca8a51238a97b4c5c",
              "IPY_MODEL_5114da1f0d0842e89a2d1a75b7c9699c"
            ],
            "layout": "IPY_MODEL_f34426fee3b9427fa4476e543cacdb7e"
          }
        },
        "0d3e04ee181c40938a290646e4b63030": {
          "model_module": "@jupyter-widgets/controls",
          "model_module_version": "1.5.0",
          "model_name": "HTMLModel",
          "state": {
            "_dom_classes": [],
            "_model_module": "@jupyter-widgets/controls",
            "_model_module_version": "1.5.0",
            "_model_name": "HTMLModel",
            "_view_count": null,
            "_view_module": "@jupyter-widgets/controls",
            "_view_module_version": "1.5.0",
            "_view_name": "HTMLView",
            "description": "",
            "description_tooltip": null,
            "layout": "IPY_MODEL_d487d4567249422fbec06466c600c498",
            "placeholder": "​",
            "style": "IPY_MODEL_cdd545edecec4e2c988d0c68e06c5533",
            "value": "config.json: 100%"
          }
        },
        "17fef61e931e4580b8bdfbb3da88ef6f": {
          "model_module": "@jupyter-widgets/base",
          "model_module_version": "1.2.0",
          "model_name": "LayoutModel",
          "state": {
            "_model_module": "@jupyter-widgets/base",
            "_model_module_version": "1.2.0",
            "_model_name": "LayoutModel",
            "_view_count": null,
            "_view_module": "@jupyter-widgets/base",
            "_view_module_version": "1.2.0",
            "_view_name": "LayoutView",
            "align_content": null,
            "align_items": null,
            "align_self": null,
            "border": null,
            "bottom": null,
            "display": null,
            "flex": null,
            "flex_flow": null,
            "grid_area": null,
            "grid_auto_columns": null,
            "grid_auto_flow": null,
            "grid_auto_rows": null,
            "grid_column": null,
            "grid_gap": null,
            "grid_row": null,
            "grid_template_areas": null,
            "grid_template_columns": null,
            "grid_template_rows": null,
            "height": null,
            "justify_content": null,
            "justify_items": null,
            "left": null,
            "margin": null,
            "max_height": null,
            "max_width": null,
            "min_height": null,
            "min_width": null,
            "object_fit": null,
            "object_position": null,
            "order": null,
            "overflow": null,
            "overflow_x": null,
            "overflow_y": null,
            "padding": null,
            "right": null,
            "top": null,
            "visibility": null,
            "width": null
          }
        },
        "182f7c7f98d149d29182be4b98ef1789": {
          "model_module": "@jupyter-widgets/controls",
          "model_module_version": "1.5.0",
          "model_name": "DescriptionStyleModel",
          "state": {
            "_model_module": "@jupyter-widgets/controls",
            "_model_module_version": "1.5.0",
            "_model_name": "DescriptionStyleModel",
            "_view_count": null,
            "_view_module": "@jupyter-widgets/base",
            "_view_module_version": "1.2.0",
            "_view_name": "StyleView",
            "description_width": ""
          }
        },
        "1ad5ba58143348c5b7e1b2a244116549": {
          "model_module": "@jupyter-widgets/base",
          "model_module_version": "1.2.0",
          "model_name": "LayoutModel",
          "state": {
            "_model_module": "@jupyter-widgets/base",
            "_model_module_version": "1.2.0",
            "_model_name": "LayoutModel",
            "_view_count": null,
            "_view_module": "@jupyter-widgets/base",
            "_view_module_version": "1.2.0",
            "_view_name": "LayoutView",
            "align_content": null,
            "align_items": null,
            "align_self": null,
            "border": null,
            "bottom": null,
            "display": null,
            "flex": null,
            "flex_flow": null,
            "grid_area": null,
            "grid_auto_columns": null,
            "grid_auto_flow": null,
            "grid_auto_rows": null,
            "grid_column": null,
            "grid_gap": null,
            "grid_row": null,
            "grid_template_areas": null,
            "grid_template_columns": null,
            "grid_template_rows": null,
            "height": null,
            "justify_content": null,
            "justify_items": null,
            "left": null,
            "margin": null,
            "max_height": null,
            "max_width": null,
            "min_height": null,
            "min_width": null,
            "object_fit": null,
            "object_position": null,
            "order": null,
            "overflow": null,
            "overflow_x": null,
            "overflow_y": null,
            "padding": null,
            "right": null,
            "top": null,
            "visibility": null,
            "width": null
          }
        },
        "21f19cc0c2bf49628725dc1283c11c90": {
          "model_module": "@jupyter-widgets/base",
          "model_module_version": "1.2.0",
          "model_name": "LayoutModel",
          "state": {
            "_model_module": "@jupyter-widgets/base",
            "_model_module_version": "1.2.0",
            "_model_name": "LayoutModel",
            "_view_count": null,
            "_view_module": "@jupyter-widgets/base",
            "_view_module_version": "1.2.0",
            "_view_name": "LayoutView",
            "align_content": null,
            "align_items": null,
            "align_self": null,
            "border": null,
            "bottom": null,
            "display": null,
            "flex": null,
            "flex_flow": null,
            "grid_area": null,
            "grid_auto_columns": null,
            "grid_auto_flow": null,
            "grid_auto_rows": null,
            "grid_column": null,
            "grid_gap": null,
            "grid_row": null,
            "grid_template_areas": null,
            "grid_template_columns": null,
            "grid_template_rows": null,
            "height": null,
            "justify_content": null,
            "justify_items": null,
            "left": null,
            "margin": null,
            "max_height": null,
            "max_width": null,
            "min_height": null,
            "min_width": null,
            "object_fit": null,
            "object_position": null,
            "order": null,
            "overflow": null,
            "overflow_x": null,
            "overflow_y": null,
            "padding": null,
            "right": null,
            "top": null,
            "visibility": null,
            "width": null
          }
        },
        "2d43fa44b7654136871e7d37e14d1332": {
          "model_module": "@jupyter-widgets/base",
          "model_module_version": "1.2.0",
          "model_name": "LayoutModel",
          "state": {
            "_model_module": "@jupyter-widgets/base",
            "_model_module_version": "1.2.0",
            "_model_name": "LayoutModel",
            "_view_count": null,
            "_view_module": "@jupyter-widgets/base",
            "_view_module_version": "1.2.0",
            "_view_name": "LayoutView",
            "align_content": null,
            "align_items": null,
            "align_self": null,
            "border": null,
            "bottom": null,
            "display": null,
            "flex": null,
            "flex_flow": null,
            "grid_area": null,
            "grid_auto_columns": null,
            "grid_auto_flow": null,
            "grid_auto_rows": null,
            "grid_column": null,
            "grid_gap": null,
            "grid_row": null,
            "grid_template_areas": null,
            "grid_template_columns": null,
            "grid_template_rows": null,
            "height": null,
            "justify_content": null,
            "justify_items": null,
            "left": null,
            "margin": null,
            "max_height": null,
            "max_width": null,
            "min_height": null,
            "min_width": null,
            "object_fit": null,
            "object_position": null,
            "order": null,
            "overflow": null,
            "overflow_x": null,
            "overflow_y": null,
            "padding": null,
            "right": null,
            "top": null,
            "visibility": null,
            "width": null
          }
        },
        "34615a376d934f39a06b7be33989228b": {
          "model_module": "@jupyter-widgets/base",
          "model_module_version": "1.2.0",
          "model_name": "LayoutModel",
          "state": {
            "_model_module": "@jupyter-widgets/base",
            "_model_module_version": "1.2.0",
            "_model_name": "LayoutModel",
            "_view_count": null,
            "_view_module": "@jupyter-widgets/base",
            "_view_module_version": "1.2.0",
            "_view_name": "LayoutView",
            "align_content": null,
            "align_items": null,
            "align_self": null,
            "border": null,
            "bottom": null,
            "display": null,
            "flex": null,
            "flex_flow": null,
            "grid_area": null,
            "grid_auto_columns": null,
            "grid_auto_flow": null,
            "grid_auto_rows": null,
            "grid_column": null,
            "grid_gap": null,
            "grid_row": null,
            "grid_template_areas": null,
            "grid_template_columns": null,
            "grid_template_rows": null,
            "height": null,
            "justify_content": null,
            "justify_items": null,
            "left": null,
            "margin": null,
            "max_height": null,
            "max_width": null,
            "min_height": null,
            "min_width": null,
            "object_fit": null,
            "object_position": null,
            "order": null,
            "overflow": null,
            "overflow_x": null,
            "overflow_y": null,
            "padding": null,
            "right": null,
            "top": null,
            "visibility": null,
            "width": null
          }
        },
        "3a88f97a813246fa911c2e59cc480bc5": {
          "model_module": "@jupyter-widgets/controls",
          "model_module_version": "1.5.0",
          "model_name": "HTMLModel",
          "state": {
            "_dom_classes": [],
            "_model_module": "@jupyter-widgets/controls",
            "_model_module_version": "1.5.0",
            "_model_name": "HTMLModel",
            "_view_count": null,
            "_view_module": "@jupyter-widgets/controls",
            "_view_module_version": "1.5.0",
            "_view_name": "HTMLView",
            "description": "",
            "description_tooltip": null,
            "layout": "IPY_MODEL_7b799fece39d4adb9d9c3f7a4c6df611",
            "placeholder": "​",
            "style": "IPY_MODEL_b44315fbf871447dbd1885abf64b1b76",
            "value": " 48.0/48.0 [00:00&lt;00:00, 2.37kB/s]"
          }
        },
        "3ae5d4b975094aaca8a51238a97b4c5c": {
          "model_module": "@jupyter-widgets/controls",
          "model_module_version": "1.5.0",
          "model_name": "FloatProgressModel",
          "state": {
            "_dom_classes": [],
            "_model_module": "@jupyter-widgets/controls",
            "_model_module_version": "1.5.0",
            "_model_name": "FloatProgressModel",
            "_view_count": null,
            "_view_module": "@jupyter-widgets/controls",
            "_view_module_version": "1.5.0",
            "_view_name": "ProgressView",
            "bar_style": "success",
            "description": "",
            "description_tooltip": null,
            "layout": "IPY_MODEL_ab5100ec57a04caa98a5c285cb35a48b",
            "max": 231508,
            "min": 0,
            "orientation": "horizontal",
            "style": "IPY_MODEL_062452a4bdc7495f94a0d515effe3200",
            "value": 231508
          }
        },
        "3b2b2e194b614ebcb5da8ddfc5410ae3": {
          "model_module": "@jupyter-widgets/controls",
          "model_module_version": "1.5.0",
          "model_name": "DescriptionStyleModel",
          "state": {
            "_model_module": "@jupyter-widgets/controls",
            "_model_module_version": "1.5.0",
            "_model_name": "DescriptionStyleModel",
            "_view_count": null,
            "_view_module": "@jupyter-widgets/base",
            "_view_module_version": "1.2.0",
            "_view_name": "StyleView",
            "description_width": ""
          }
        },
        "41cf3bacc8d349ca87e996250f2f2ca9": {
          "model_module": "@jupyter-widgets/controls",
          "model_module_version": "1.5.0",
          "model_name": "DescriptionStyleModel",
          "state": {
            "_model_module": "@jupyter-widgets/controls",
            "_model_module_version": "1.5.0",
            "_model_name": "DescriptionStyleModel",
            "_view_count": null,
            "_view_module": "@jupyter-widgets/base",
            "_view_module_version": "1.2.0",
            "_view_name": "StyleView",
            "description_width": ""
          }
        },
        "47357f2750064102aa51524fa3552b94": {
          "model_module": "@jupyter-widgets/controls",
          "model_module_version": "1.5.0",
          "model_name": "HTMLModel",
          "state": {
            "_dom_classes": [],
            "_model_module": "@jupyter-widgets/controls",
            "_model_module_version": "1.5.0",
            "_model_name": "HTMLModel",
            "_view_count": null,
            "_view_module": "@jupyter-widgets/controls",
            "_view_module_version": "1.5.0",
            "_view_name": "HTMLView",
            "description": "",
            "description_tooltip": null,
            "layout": "IPY_MODEL_4a318c9c51cc4050ad1a378319d1026f",
            "placeholder": "​",
            "style": "IPY_MODEL_182f7c7f98d149d29182be4b98ef1789",
            "value": " 466k/466k [00:00&lt;00:00, 1.87MB/s]"
          }
        },
        "4929debe87bc4bc9a6af6f76058bbb69": {
          "model_module": "@jupyter-widgets/base",
          "model_module_version": "1.2.0",
          "model_name": "LayoutModel",
          "state": {
            "_model_module": "@jupyter-widgets/base",
            "_model_module_version": "1.2.0",
            "_model_name": "LayoutModel",
            "_view_count": null,
            "_view_module": "@jupyter-widgets/base",
            "_view_module_version": "1.2.0",
            "_view_name": "LayoutView",
            "align_content": null,
            "align_items": null,
            "align_self": null,
            "border": null,
            "bottom": null,
            "display": null,
            "flex": null,
            "flex_flow": null,
            "grid_area": null,
            "grid_auto_columns": null,
            "grid_auto_flow": null,
            "grid_auto_rows": null,
            "grid_column": null,
            "grid_gap": null,
            "grid_row": null,
            "grid_template_areas": null,
            "grid_template_columns": null,
            "grid_template_rows": null,
            "height": null,
            "justify_content": null,
            "justify_items": null,
            "left": null,
            "margin": null,
            "max_height": null,
            "max_width": null,
            "min_height": null,
            "min_width": null,
            "object_fit": null,
            "object_position": null,
            "order": null,
            "overflow": null,
            "overflow_x": null,
            "overflow_y": null,
            "padding": null,
            "right": null,
            "top": null,
            "visibility": null,
            "width": null
          }
        },
        "4a318c9c51cc4050ad1a378319d1026f": {
          "model_module": "@jupyter-widgets/base",
          "model_module_version": "1.2.0",
          "model_name": "LayoutModel",
          "state": {
            "_model_module": "@jupyter-widgets/base",
            "_model_module_version": "1.2.0",
            "_model_name": "LayoutModel",
            "_view_count": null,
            "_view_module": "@jupyter-widgets/base",
            "_view_module_version": "1.2.0",
            "_view_name": "LayoutView",
            "align_content": null,
            "align_items": null,
            "align_self": null,
            "border": null,
            "bottom": null,
            "display": null,
            "flex": null,
            "flex_flow": null,
            "grid_area": null,
            "grid_auto_columns": null,
            "grid_auto_flow": null,
            "grid_auto_rows": null,
            "grid_column": null,
            "grid_gap": null,
            "grid_row": null,
            "grid_template_areas": null,
            "grid_template_columns": null,
            "grid_template_rows": null,
            "height": null,
            "justify_content": null,
            "justify_items": null,
            "left": null,
            "margin": null,
            "max_height": null,
            "max_width": null,
            "min_height": null,
            "min_width": null,
            "object_fit": null,
            "object_position": null,
            "order": null,
            "overflow": null,
            "overflow_x": null,
            "overflow_y": null,
            "padding": null,
            "right": null,
            "top": null,
            "visibility": null,
            "width": null
          }
        },
        "4de333aaf4594f1dab092fc8eb10c9cb": {
          "model_module": "@jupyter-widgets/base",
          "model_module_version": "1.2.0",
          "model_name": "LayoutModel",
          "state": {
            "_model_module": "@jupyter-widgets/base",
            "_model_module_version": "1.2.0",
            "_model_name": "LayoutModel",
            "_view_count": null,
            "_view_module": "@jupyter-widgets/base",
            "_view_module_version": "1.2.0",
            "_view_name": "LayoutView",
            "align_content": null,
            "align_items": null,
            "align_self": null,
            "border": null,
            "bottom": null,
            "display": null,
            "flex": null,
            "flex_flow": null,
            "grid_area": null,
            "grid_auto_columns": null,
            "grid_auto_flow": null,
            "grid_auto_rows": null,
            "grid_column": null,
            "grid_gap": null,
            "grid_row": null,
            "grid_template_areas": null,
            "grid_template_columns": null,
            "grid_template_rows": null,
            "height": null,
            "justify_content": null,
            "justify_items": null,
            "left": null,
            "margin": null,
            "max_height": null,
            "max_width": null,
            "min_height": null,
            "min_width": null,
            "object_fit": null,
            "object_position": null,
            "order": null,
            "overflow": null,
            "overflow_x": null,
            "overflow_y": null,
            "padding": null,
            "right": null,
            "top": null,
            "visibility": null,
            "width": null
          }
        },
        "50744dea75544324a756d1c62bb0d20d": {
          "model_module": "@jupyter-widgets/base",
          "model_module_version": "1.2.0",
          "model_name": "LayoutModel",
          "state": {
            "_model_module": "@jupyter-widgets/base",
            "_model_module_version": "1.2.0",
            "_model_name": "LayoutModel",
            "_view_count": null,
            "_view_module": "@jupyter-widgets/base",
            "_view_module_version": "1.2.0",
            "_view_name": "LayoutView",
            "align_content": null,
            "align_items": null,
            "align_self": null,
            "border": null,
            "bottom": null,
            "display": null,
            "flex": null,
            "flex_flow": null,
            "grid_area": null,
            "grid_auto_columns": null,
            "grid_auto_flow": null,
            "grid_auto_rows": null,
            "grid_column": null,
            "grid_gap": null,
            "grid_row": null,
            "grid_template_areas": null,
            "grid_template_columns": null,
            "grid_template_rows": null,
            "height": null,
            "justify_content": null,
            "justify_items": null,
            "left": null,
            "margin": null,
            "max_height": null,
            "max_width": null,
            "min_height": null,
            "min_width": null,
            "object_fit": null,
            "object_position": null,
            "order": null,
            "overflow": null,
            "overflow_x": null,
            "overflow_y": null,
            "padding": null,
            "right": null,
            "top": null,
            "visibility": null,
            "width": null
          }
        },
        "5114da1f0d0842e89a2d1a75b7c9699c": {
          "model_module": "@jupyter-widgets/controls",
          "model_module_version": "1.5.0",
          "model_name": "HTMLModel",
          "state": {
            "_dom_classes": [],
            "_model_module": "@jupyter-widgets/controls",
            "_model_module_version": "1.5.0",
            "_model_name": "HTMLModel",
            "_view_count": null,
            "_view_module": "@jupyter-widgets/controls",
            "_view_module_version": "1.5.0",
            "_view_name": "HTMLView",
            "description": "",
            "description_tooltip": null,
            "layout": "IPY_MODEL_bdeb29ea054840f7b8f208376e83defd",
            "placeholder": "​",
            "style": "IPY_MODEL_d3f86577cce145558842431b52b30b23",
            "value": " 232k/232k [00:00&lt;00:00, 5.18MB/s]"
          }
        },
        "530663a98da741b5a670a24a70465335": {
          "model_module": "@jupyter-widgets/controls",
          "model_module_version": "1.5.0",
          "model_name": "HTMLModel",
          "state": {
            "_dom_classes": [],
            "_model_module": "@jupyter-widgets/controls",
            "_model_module_version": "1.5.0",
            "_model_name": "HTMLModel",
            "_view_count": null,
            "_view_module": "@jupyter-widgets/controls",
            "_view_module_version": "1.5.0",
            "_view_name": "HTMLView",
            "description": "",
            "description_tooltip": null,
            "layout": "IPY_MODEL_befb7301da434e6595f873aa991bd507",
            "placeholder": "​",
            "style": "IPY_MODEL_41cf3bacc8d349ca87e996250f2f2ca9",
            "value": " 570/570 [00:00&lt;00:00, 23.2kB/s]"
          }
        },
        "54f6dcaf482c40b8aca672d58e53bdcb": {
          "model_module": "@jupyter-widgets/controls",
          "model_module_version": "1.5.0",
          "model_name": "DescriptionStyleModel",
          "state": {
            "_model_module": "@jupyter-widgets/controls",
            "_model_module_version": "1.5.0",
            "_model_name": "DescriptionStyleModel",
            "_view_count": null,
            "_view_module": "@jupyter-widgets/base",
            "_view_module_version": "1.2.0",
            "_view_name": "StyleView",
            "description_width": ""
          }
        },
        "57471198b28b4e599b15490ba506efba": {
          "model_module": "@jupyter-widgets/controls",
          "model_module_version": "1.5.0",
          "model_name": "HBoxModel",
          "state": {
            "_dom_classes": [],
            "_model_module": "@jupyter-widgets/controls",
            "_model_module_version": "1.5.0",
            "_model_name": "HBoxModel",
            "_view_count": null,
            "_view_module": "@jupyter-widgets/controls",
            "_view_module_version": "1.5.0",
            "_view_name": "HBoxView",
            "box_style": "",
            "children": [
              "IPY_MODEL_0d3e04ee181c40938a290646e4b63030",
              "IPY_MODEL_0694e56b9b284e3699c001f69bab1968",
              "IPY_MODEL_530663a98da741b5a670a24a70465335"
            ],
            "layout": "IPY_MODEL_21f19cc0c2bf49628725dc1283c11c90"
          }
        },
        "5e4c61d41ec74985b9a800799448cced": {
          "model_module": "@jupyter-widgets/base",
          "model_module_version": "1.2.0",
          "model_name": "LayoutModel",
          "state": {
            "_model_module": "@jupyter-widgets/base",
            "_model_module_version": "1.2.0",
            "_model_name": "LayoutModel",
            "_view_count": null,
            "_view_module": "@jupyter-widgets/base",
            "_view_module_version": "1.2.0",
            "_view_name": "LayoutView",
            "align_content": null,
            "align_items": null,
            "align_self": null,
            "border": null,
            "bottom": null,
            "display": null,
            "flex": null,
            "flex_flow": null,
            "grid_area": null,
            "grid_auto_columns": null,
            "grid_auto_flow": null,
            "grid_auto_rows": null,
            "grid_column": null,
            "grid_gap": null,
            "grid_row": null,
            "grid_template_areas": null,
            "grid_template_columns": null,
            "grid_template_rows": null,
            "height": null,
            "justify_content": null,
            "justify_items": null,
            "left": null,
            "margin": null,
            "max_height": null,
            "max_width": null,
            "min_height": null,
            "min_width": null,
            "object_fit": null,
            "object_position": null,
            "order": null,
            "overflow": null,
            "overflow_x": null,
            "overflow_y": null,
            "padding": null,
            "right": null,
            "top": null,
            "visibility": null,
            "width": null
          }
        },
        "610e33f8005c40c89b4d4151e5393cb9": {
          "model_module": "@jupyter-widgets/base",
          "model_module_version": "1.2.0",
          "model_name": "LayoutModel",
          "state": {
            "_model_module": "@jupyter-widgets/base",
            "_model_module_version": "1.2.0",
            "_model_name": "LayoutModel",
            "_view_count": null,
            "_view_module": "@jupyter-widgets/base",
            "_view_module_version": "1.2.0",
            "_view_name": "LayoutView",
            "align_content": null,
            "align_items": null,
            "align_self": null,
            "border": null,
            "bottom": null,
            "display": null,
            "flex": null,
            "flex_flow": null,
            "grid_area": null,
            "grid_auto_columns": null,
            "grid_auto_flow": null,
            "grid_auto_rows": null,
            "grid_column": null,
            "grid_gap": null,
            "grid_row": null,
            "grid_template_areas": null,
            "grid_template_columns": null,
            "grid_template_rows": null,
            "height": null,
            "justify_content": null,
            "justify_items": null,
            "left": null,
            "margin": null,
            "max_height": null,
            "max_width": null,
            "min_height": null,
            "min_width": null,
            "object_fit": null,
            "object_position": null,
            "order": null,
            "overflow": null,
            "overflow_x": null,
            "overflow_y": null,
            "padding": null,
            "right": null,
            "top": null,
            "visibility": null,
            "width": null
          }
        },
        "627321adb946499a95e3934f44d6c2bc": {
          "model_module": "@jupyter-widgets/controls",
          "model_module_version": "1.5.0",
          "model_name": "HTMLModel",
          "state": {
            "_dom_classes": [],
            "_model_module": "@jupyter-widgets/controls",
            "_model_module_version": "1.5.0",
            "_model_name": "HTMLModel",
            "_view_count": null,
            "_view_module": "@jupyter-widgets/controls",
            "_view_module_version": "1.5.0",
            "_view_name": "HTMLView",
            "description": "",
            "description_tooltip": null,
            "layout": "IPY_MODEL_610e33f8005c40c89b4d4151e5393cb9",
            "placeholder": "​",
            "style": "IPY_MODEL_d8bd042c387f43daa14d204c0bf424c9",
            "value": "vocab.txt: 100%"
          }
        },
        "7a934874b35747ed945943ceed1c5af1": {
          "model_module": "@jupyter-widgets/controls",
          "model_module_version": "1.5.0",
          "model_name": "HBoxModel",
          "state": {
            "_dom_classes": [],
            "_model_module": "@jupyter-widgets/controls",
            "_model_module_version": "1.5.0",
            "_model_name": "HBoxModel",
            "_view_count": null,
            "_view_module": "@jupyter-widgets/controls",
            "_view_module_version": "1.5.0",
            "_view_name": "HBoxView",
            "box_style": "",
            "children": [
              "IPY_MODEL_e059fdace8284a50ad5e4f1e78e49bab",
              "IPY_MODEL_92b688629dd2433497666dcc353a5426",
              "IPY_MODEL_47357f2750064102aa51524fa3552b94"
            ],
            "layout": "IPY_MODEL_34615a376d934f39a06b7be33989228b"
          }
        },
        "7b5fa9f75b6646e4913ef1c86c1b093c": {
          "model_module": "@jupyter-widgets/controls",
          "model_module_version": "1.5.0",
          "model_name": "ProgressStyleModel",
          "state": {
            "_model_module": "@jupyter-widgets/controls",
            "_model_module_version": "1.5.0",
            "_model_name": "ProgressStyleModel",
            "_view_count": null,
            "_view_module": "@jupyter-widgets/base",
            "_view_module_version": "1.2.0",
            "_view_name": "StyleView",
            "bar_color": null,
            "description_width": ""
          }
        },
        "7b799fece39d4adb9d9c3f7a4c6df611": {
          "model_module": "@jupyter-widgets/base",
          "model_module_version": "1.2.0",
          "model_name": "LayoutModel",
          "state": {
            "_model_module": "@jupyter-widgets/base",
            "_model_module_version": "1.2.0",
            "_model_name": "LayoutModel",
            "_view_count": null,
            "_view_module": "@jupyter-widgets/base",
            "_view_module_version": "1.2.0",
            "_view_name": "LayoutView",
            "align_content": null,
            "align_items": null,
            "align_self": null,
            "border": null,
            "bottom": null,
            "display": null,
            "flex": null,
            "flex_flow": null,
            "grid_area": null,
            "grid_auto_columns": null,
            "grid_auto_flow": null,
            "grid_auto_rows": null,
            "grid_column": null,
            "grid_gap": null,
            "grid_row": null,
            "grid_template_areas": null,
            "grid_template_columns": null,
            "grid_template_rows": null,
            "height": null,
            "justify_content": null,
            "justify_items": null,
            "left": null,
            "margin": null,
            "max_height": null,
            "max_width": null,
            "min_height": null,
            "min_width": null,
            "object_fit": null,
            "object_position": null,
            "order": null,
            "overflow": null,
            "overflow_x": null,
            "overflow_y": null,
            "padding": null,
            "right": null,
            "top": null,
            "visibility": null,
            "width": null
          }
        },
        "7dab59f02a25403c8136209dcf886a49": {
          "model_module": "@jupyter-widgets/base",
          "model_module_version": "1.2.0",
          "model_name": "LayoutModel",
          "state": {
            "_model_module": "@jupyter-widgets/base",
            "_model_module_version": "1.2.0",
            "_model_name": "LayoutModel",
            "_view_count": null,
            "_view_module": "@jupyter-widgets/base",
            "_view_module_version": "1.2.0",
            "_view_name": "LayoutView",
            "align_content": null,
            "align_items": null,
            "align_self": null,
            "border": null,
            "bottom": null,
            "display": null,
            "flex": null,
            "flex_flow": null,
            "grid_area": null,
            "grid_auto_columns": null,
            "grid_auto_flow": null,
            "grid_auto_rows": null,
            "grid_column": null,
            "grid_gap": null,
            "grid_row": null,
            "grid_template_areas": null,
            "grid_template_columns": null,
            "grid_template_rows": null,
            "height": null,
            "justify_content": null,
            "justify_items": null,
            "left": null,
            "margin": null,
            "max_height": null,
            "max_width": null,
            "min_height": null,
            "min_width": null,
            "object_fit": null,
            "object_position": null,
            "order": null,
            "overflow": null,
            "overflow_x": null,
            "overflow_y": null,
            "padding": null,
            "right": null,
            "top": null,
            "visibility": null,
            "width": null
          }
        },
        "82436062eebe4d0bb151f9d35903f6e8": {
          "model_module": "@jupyter-widgets/controls",
          "model_module_version": "1.5.0",
          "model_name": "HTMLModel",
          "state": {
            "_dom_classes": [],
            "_model_module": "@jupyter-widgets/controls",
            "_model_module_version": "1.5.0",
            "_model_name": "HTMLModel",
            "_view_count": null,
            "_view_module": "@jupyter-widgets/controls",
            "_view_module_version": "1.5.0",
            "_view_name": "HTMLView",
            "description": "",
            "description_tooltip": null,
            "layout": "IPY_MODEL_2d43fa44b7654136871e7d37e14d1332",
            "placeholder": "​",
            "style": "IPY_MODEL_54f6dcaf482c40b8aca672d58e53bdcb",
            "value": " 440M/440M [00:04&lt;00:00, 94.1MB/s]"
          }
        },
        "8d5bda789c434c7c9410d15aeb5584de": {
          "model_module": "@jupyter-widgets/controls",
          "model_module_version": "1.5.0",
          "model_name": "ProgressStyleModel",
          "state": {
            "_model_module": "@jupyter-widgets/controls",
            "_model_module_version": "1.5.0",
            "_model_name": "ProgressStyleModel",
            "_view_count": null,
            "_view_module": "@jupyter-widgets/base",
            "_view_module_version": "1.2.0",
            "_view_name": "StyleView",
            "bar_color": null,
            "description_width": ""
          }
        },
        "92b688629dd2433497666dcc353a5426": {
          "model_module": "@jupyter-widgets/controls",
          "model_module_version": "1.5.0",
          "model_name": "FloatProgressModel",
          "state": {
            "_dom_classes": [],
            "_model_module": "@jupyter-widgets/controls",
            "_model_module_version": "1.5.0",
            "_model_name": "FloatProgressModel",
            "_view_count": null,
            "_view_module": "@jupyter-widgets/controls",
            "_view_module_version": "1.5.0",
            "_view_name": "ProgressView",
            "bar_style": "success",
            "description": "",
            "description_tooltip": null,
            "layout": "IPY_MODEL_7dab59f02a25403c8136209dcf886a49",
            "max": 466062,
            "min": 0,
            "orientation": "horizontal",
            "style": "IPY_MODEL_ff700ce192ce4b189a01dd7ee3fab5b9",
            "value": 466062
          }
        },
        "9bfda9b20a254ebdb0ca7298daaacec8": {
          "model_module": "@jupyter-widgets/controls",
          "model_module_version": "1.5.0",
          "model_name": "HBoxModel",
          "state": {
            "_dom_classes": [],
            "_model_module": "@jupyter-widgets/controls",
            "_model_module_version": "1.5.0",
            "_model_name": "HBoxModel",
            "_view_count": null,
            "_view_module": "@jupyter-widgets/controls",
            "_view_module_version": "1.5.0",
            "_view_name": "HBoxView",
            "box_style": "",
            "children": [
              "IPY_MODEL_beb50ff5391348778acf8ecb736fa96a",
              "IPY_MODEL_cbc72d405b754e7f99e72da817491a44",
              "IPY_MODEL_3a88f97a813246fa911c2e59cc480bc5"
            ],
            "layout": "IPY_MODEL_1ad5ba58143348c5b7e1b2a244116549"
          }
        },
        "a3a7a5d621344da7989094bca4c412e7": {
          "model_module": "@jupyter-widgets/controls",
          "model_module_version": "1.5.0",
          "model_name": "HBoxModel",
          "state": {
            "_dom_classes": [],
            "_model_module": "@jupyter-widgets/controls",
            "_model_module_version": "1.5.0",
            "_model_name": "HBoxModel",
            "_view_count": null,
            "_view_module": "@jupyter-widgets/controls",
            "_view_module_version": "1.5.0",
            "_view_name": "HBoxView",
            "box_style": "",
            "children": [
              "IPY_MODEL_ce184127a91446ffaa98a83ce8d9767a",
              "IPY_MODEL_c186aacbcc79449299902663b5db4d9d",
              "IPY_MODEL_82436062eebe4d0bb151f9d35903f6e8"
            ],
            "layout": "IPY_MODEL_4de333aaf4594f1dab092fc8eb10c9cb"
          }
        },
        "ab5100ec57a04caa98a5c285cb35a48b": {
          "model_module": "@jupyter-widgets/base",
          "model_module_version": "1.2.0",
          "model_name": "LayoutModel",
          "state": {
            "_model_module": "@jupyter-widgets/base",
            "_model_module_version": "1.2.0",
            "_model_name": "LayoutModel",
            "_view_count": null,
            "_view_module": "@jupyter-widgets/base",
            "_view_module_version": "1.2.0",
            "_view_name": "LayoutView",
            "align_content": null,
            "align_items": null,
            "align_self": null,
            "border": null,
            "bottom": null,
            "display": null,
            "flex": null,
            "flex_flow": null,
            "grid_area": null,
            "grid_auto_columns": null,
            "grid_auto_flow": null,
            "grid_auto_rows": null,
            "grid_column": null,
            "grid_gap": null,
            "grid_row": null,
            "grid_template_areas": null,
            "grid_template_columns": null,
            "grid_template_rows": null,
            "height": null,
            "justify_content": null,
            "justify_items": null,
            "left": null,
            "margin": null,
            "max_height": null,
            "max_width": null,
            "min_height": null,
            "min_width": null,
            "object_fit": null,
            "object_position": null,
            "order": null,
            "overflow": null,
            "overflow_x": null,
            "overflow_y": null,
            "padding": null,
            "right": null,
            "top": null,
            "visibility": null,
            "width": null
          }
        },
        "b44315fbf871447dbd1885abf64b1b76": {
          "model_module": "@jupyter-widgets/controls",
          "model_module_version": "1.5.0",
          "model_name": "DescriptionStyleModel",
          "state": {
            "_model_module": "@jupyter-widgets/controls",
            "_model_module_version": "1.5.0",
            "_model_name": "DescriptionStyleModel",
            "_view_count": null,
            "_view_module": "@jupyter-widgets/base",
            "_view_module_version": "1.2.0",
            "_view_name": "StyleView",
            "description_width": ""
          }
        },
        "b61dea476484405a9fd3e4d39fd9c928": {
          "model_module": "@jupyter-widgets/base",
          "model_module_version": "1.2.0",
          "model_name": "LayoutModel",
          "state": {
            "_model_module": "@jupyter-widgets/base",
            "_model_module_version": "1.2.0",
            "_model_name": "LayoutModel",
            "_view_count": null,
            "_view_module": "@jupyter-widgets/base",
            "_view_module_version": "1.2.0",
            "_view_name": "LayoutView",
            "align_content": null,
            "align_items": null,
            "align_self": null,
            "border": null,
            "bottom": null,
            "display": null,
            "flex": null,
            "flex_flow": null,
            "grid_area": null,
            "grid_auto_columns": null,
            "grid_auto_flow": null,
            "grid_auto_rows": null,
            "grid_column": null,
            "grid_gap": null,
            "grid_row": null,
            "grid_template_areas": null,
            "grid_template_columns": null,
            "grid_template_rows": null,
            "height": null,
            "justify_content": null,
            "justify_items": null,
            "left": null,
            "margin": null,
            "max_height": null,
            "max_width": null,
            "min_height": null,
            "min_width": null,
            "object_fit": null,
            "object_position": null,
            "order": null,
            "overflow": null,
            "overflow_x": null,
            "overflow_y": null,
            "padding": null,
            "right": null,
            "top": null,
            "visibility": null,
            "width": null
          }
        },
        "bdeb29ea054840f7b8f208376e83defd": {
          "model_module": "@jupyter-widgets/base",
          "model_module_version": "1.2.0",
          "model_name": "LayoutModel",
          "state": {
            "_model_module": "@jupyter-widgets/base",
            "_model_module_version": "1.2.0",
            "_model_name": "LayoutModel",
            "_view_count": null,
            "_view_module": "@jupyter-widgets/base",
            "_view_module_version": "1.2.0",
            "_view_name": "LayoutView",
            "align_content": null,
            "align_items": null,
            "align_self": null,
            "border": null,
            "bottom": null,
            "display": null,
            "flex": null,
            "flex_flow": null,
            "grid_area": null,
            "grid_auto_columns": null,
            "grid_auto_flow": null,
            "grid_auto_rows": null,
            "grid_column": null,
            "grid_gap": null,
            "grid_row": null,
            "grid_template_areas": null,
            "grid_template_columns": null,
            "grid_template_rows": null,
            "height": null,
            "justify_content": null,
            "justify_items": null,
            "left": null,
            "margin": null,
            "max_height": null,
            "max_width": null,
            "min_height": null,
            "min_width": null,
            "object_fit": null,
            "object_position": null,
            "order": null,
            "overflow": null,
            "overflow_x": null,
            "overflow_y": null,
            "padding": null,
            "right": null,
            "top": null,
            "visibility": null,
            "width": null
          }
        },
        "beb50ff5391348778acf8ecb736fa96a": {
          "model_module": "@jupyter-widgets/controls",
          "model_module_version": "1.5.0",
          "model_name": "HTMLModel",
          "state": {
            "_dom_classes": [],
            "_model_module": "@jupyter-widgets/controls",
            "_model_module_version": "1.5.0",
            "_model_name": "HTMLModel",
            "_view_count": null,
            "_view_module": "@jupyter-widgets/controls",
            "_view_module_version": "1.5.0",
            "_view_name": "HTMLView",
            "description": "",
            "description_tooltip": null,
            "layout": "IPY_MODEL_17fef61e931e4580b8bdfbb3da88ef6f",
            "placeholder": "​",
            "style": "IPY_MODEL_f38e29cf4d05444e8cc687c43fe58ec9",
            "value": "tokenizer_config.json: 100%"
          }
        },
        "befb7301da434e6595f873aa991bd507": {
          "model_module": "@jupyter-widgets/base",
          "model_module_version": "1.2.0",
          "model_name": "LayoutModel",
          "state": {
            "_model_module": "@jupyter-widgets/base",
            "_model_module_version": "1.2.0",
            "_model_name": "LayoutModel",
            "_view_count": null,
            "_view_module": "@jupyter-widgets/base",
            "_view_module_version": "1.2.0",
            "_view_name": "LayoutView",
            "align_content": null,
            "align_items": null,
            "align_self": null,
            "border": null,
            "bottom": null,
            "display": null,
            "flex": null,
            "flex_flow": null,
            "grid_area": null,
            "grid_auto_columns": null,
            "grid_auto_flow": null,
            "grid_auto_rows": null,
            "grid_column": null,
            "grid_gap": null,
            "grid_row": null,
            "grid_template_areas": null,
            "grid_template_columns": null,
            "grid_template_rows": null,
            "height": null,
            "justify_content": null,
            "justify_items": null,
            "left": null,
            "margin": null,
            "max_height": null,
            "max_width": null,
            "min_height": null,
            "min_width": null,
            "object_fit": null,
            "object_position": null,
            "order": null,
            "overflow": null,
            "overflow_x": null,
            "overflow_y": null,
            "padding": null,
            "right": null,
            "top": null,
            "visibility": null,
            "width": null
          }
        },
        "c186aacbcc79449299902663b5db4d9d": {
          "model_module": "@jupyter-widgets/controls",
          "model_module_version": "1.5.0",
          "model_name": "FloatProgressModel",
          "state": {
            "_dom_classes": [],
            "_model_module": "@jupyter-widgets/controls",
            "_model_module_version": "1.5.0",
            "_model_name": "FloatProgressModel",
            "_view_count": null,
            "_view_module": "@jupyter-widgets/controls",
            "_view_module_version": "1.5.0",
            "_view_name": "ProgressView",
            "bar_style": "success",
            "description": "",
            "description_tooltip": null,
            "layout": "IPY_MODEL_4929debe87bc4bc9a6af6f76058bbb69",
            "max": 440449768,
            "min": 0,
            "orientation": "horizontal",
            "style": "IPY_MODEL_7b5fa9f75b6646e4913ef1c86c1b093c",
            "value": 440449768
          }
        },
        "cbc72d405b754e7f99e72da817491a44": {
          "model_module": "@jupyter-widgets/controls",
          "model_module_version": "1.5.0",
          "model_name": "FloatProgressModel",
          "state": {
            "_dom_classes": [],
            "_model_module": "@jupyter-widgets/controls",
            "_model_module_version": "1.5.0",
            "_model_name": "FloatProgressModel",
            "_view_count": null,
            "_view_module": "@jupyter-widgets/controls",
            "_view_module_version": "1.5.0",
            "_view_name": "ProgressView",
            "bar_style": "success",
            "description": "",
            "description_tooltip": null,
            "layout": "IPY_MODEL_5e4c61d41ec74985b9a800799448cced",
            "max": 48,
            "min": 0,
            "orientation": "horizontal",
            "style": "IPY_MODEL_e0fe8b45af974938be00e02e529cfbfe",
            "value": 48
          }
        },
        "cdd545edecec4e2c988d0c68e06c5533": {
          "model_module": "@jupyter-widgets/controls",
          "model_module_version": "1.5.0",
          "model_name": "DescriptionStyleModel",
          "state": {
            "_model_module": "@jupyter-widgets/controls",
            "_model_module_version": "1.5.0",
            "_model_name": "DescriptionStyleModel",
            "_view_count": null,
            "_view_module": "@jupyter-widgets/base",
            "_view_module_version": "1.2.0",
            "_view_name": "StyleView",
            "description_width": ""
          }
        },
        "ce184127a91446ffaa98a83ce8d9767a": {
          "model_module": "@jupyter-widgets/controls",
          "model_module_version": "1.5.0",
          "model_name": "HTMLModel",
          "state": {
            "_dom_classes": [],
            "_model_module": "@jupyter-widgets/controls",
            "_model_module_version": "1.5.0",
            "_model_name": "HTMLModel",
            "_view_count": null,
            "_view_module": "@jupyter-widgets/controls",
            "_view_module_version": "1.5.0",
            "_view_name": "HTMLView",
            "description": "",
            "description_tooltip": null,
            "layout": "IPY_MODEL_50744dea75544324a756d1c62bb0d20d",
            "placeholder": "​",
            "style": "IPY_MODEL_3b2b2e194b614ebcb5da8ddfc5410ae3",
            "value": "model.safetensors: 100%"
          }
        },
        "d2bb00ca10dc40ae8aa2ae10df7a7e62": {
          "model_module": "@jupyter-widgets/base",
          "model_module_version": "1.2.0",
          "model_name": "LayoutModel",
          "state": {
            "_model_module": "@jupyter-widgets/base",
            "_model_module_version": "1.2.0",
            "_model_name": "LayoutModel",
            "_view_count": null,
            "_view_module": "@jupyter-widgets/base",
            "_view_module_version": "1.2.0",
            "_view_name": "LayoutView",
            "align_content": null,
            "align_items": null,
            "align_self": null,
            "border": null,
            "bottom": null,
            "display": null,
            "flex": null,
            "flex_flow": null,
            "grid_area": null,
            "grid_auto_columns": null,
            "grid_auto_flow": null,
            "grid_auto_rows": null,
            "grid_column": null,
            "grid_gap": null,
            "grid_row": null,
            "grid_template_areas": null,
            "grid_template_columns": null,
            "grid_template_rows": null,
            "height": null,
            "justify_content": null,
            "justify_items": null,
            "left": null,
            "margin": null,
            "max_height": null,
            "max_width": null,
            "min_height": null,
            "min_width": null,
            "object_fit": null,
            "object_position": null,
            "order": null,
            "overflow": null,
            "overflow_x": null,
            "overflow_y": null,
            "padding": null,
            "right": null,
            "top": null,
            "visibility": null,
            "width": null
          }
        },
        "d3f86577cce145558842431b52b30b23": {
          "model_module": "@jupyter-widgets/controls",
          "model_module_version": "1.5.0",
          "model_name": "DescriptionStyleModel",
          "state": {
            "_model_module": "@jupyter-widgets/controls",
            "_model_module_version": "1.5.0",
            "_model_name": "DescriptionStyleModel",
            "_view_count": null,
            "_view_module": "@jupyter-widgets/base",
            "_view_module_version": "1.2.0",
            "_view_name": "StyleView",
            "description_width": ""
          }
        },
        "d487d4567249422fbec06466c600c498": {
          "model_module": "@jupyter-widgets/base",
          "model_module_version": "1.2.0",
          "model_name": "LayoutModel",
          "state": {
            "_model_module": "@jupyter-widgets/base",
            "_model_module_version": "1.2.0",
            "_model_name": "LayoutModel",
            "_view_count": null,
            "_view_module": "@jupyter-widgets/base",
            "_view_module_version": "1.2.0",
            "_view_name": "LayoutView",
            "align_content": null,
            "align_items": null,
            "align_self": null,
            "border": null,
            "bottom": null,
            "display": null,
            "flex": null,
            "flex_flow": null,
            "grid_area": null,
            "grid_auto_columns": null,
            "grid_auto_flow": null,
            "grid_auto_rows": null,
            "grid_column": null,
            "grid_gap": null,
            "grid_row": null,
            "grid_template_areas": null,
            "grid_template_columns": null,
            "grid_template_rows": null,
            "height": null,
            "justify_content": null,
            "justify_items": null,
            "left": null,
            "margin": null,
            "max_height": null,
            "max_width": null,
            "min_height": null,
            "min_width": null,
            "object_fit": null,
            "object_position": null,
            "order": null,
            "overflow": null,
            "overflow_x": null,
            "overflow_y": null,
            "padding": null,
            "right": null,
            "top": null,
            "visibility": null,
            "width": null
          }
        },
        "d8bd042c387f43daa14d204c0bf424c9": {
          "model_module": "@jupyter-widgets/controls",
          "model_module_version": "1.5.0",
          "model_name": "DescriptionStyleModel",
          "state": {
            "_model_module": "@jupyter-widgets/controls",
            "_model_module_version": "1.5.0",
            "_model_name": "DescriptionStyleModel",
            "_view_count": null,
            "_view_module": "@jupyter-widgets/base",
            "_view_module_version": "1.2.0",
            "_view_name": "StyleView",
            "description_width": ""
          }
        },
        "db76326037ce4050ba39cf48c31a8906": {
          "model_module": "@jupyter-widgets/controls",
          "model_module_version": "1.5.0",
          "model_name": "DescriptionStyleModel",
          "state": {
            "_model_module": "@jupyter-widgets/controls",
            "_model_module_version": "1.5.0",
            "_model_name": "DescriptionStyleModel",
            "_view_count": null,
            "_view_module": "@jupyter-widgets/base",
            "_view_module_version": "1.2.0",
            "_view_name": "StyleView",
            "description_width": ""
          }
        },
        "e059fdace8284a50ad5e4f1e78e49bab": {
          "model_module": "@jupyter-widgets/controls",
          "model_module_version": "1.5.0",
          "model_name": "HTMLModel",
          "state": {
            "_dom_classes": [],
            "_model_module": "@jupyter-widgets/controls",
            "_model_module_version": "1.5.0",
            "_model_name": "HTMLModel",
            "_view_count": null,
            "_view_module": "@jupyter-widgets/controls",
            "_view_module_version": "1.5.0",
            "_view_name": "HTMLView",
            "description": "",
            "description_tooltip": null,
            "layout": "IPY_MODEL_b61dea476484405a9fd3e4d39fd9c928",
            "placeholder": "​",
            "style": "IPY_MODEL_db76326037ce4050ba39cf48c31a8906",
            "value": "tokenizer.json: 100%"
          }
        },
        "e0fe8b45af974938be00e02e529cfbfe": {
          "model_module": "@jupyter-widgets/controls",
          "model_module_version": "1.5.0",
          "model_name": "ProgressStyleModel",
          "state": {
            "_model_module": "@jupyter-widgets/controls",
            "_model_module_version": "1.5.0",
            "_model_name": "ProgressStyleModel",
            "_view_count": null,
            "_view_module": "@jupyter-widgets/base",
            "_view_module_version": "1.2.0",
            "_view_name": "StyleView",
            "bar_color": null,
            "description_width": ""
          }
        },
        "f34426fee3b9427fa4476e543cacdb7e": {
          "model_module": "@jupyter-widgets/base",
          "model_module_version": "1.2.0",
          "model_name": "LayoutModel",
          "state": {
            "_model_module": "@jupyter-widgets/base",
            "_model_module_version": "1.2.0",
            "_model_name": "LayoutModel",
            "_view_count": null,
            "_view_module": "@jupyter-widgets/base",
            "_view_module_version": "1.2.0",
            "_view_name": "LayoutView",
            "align_content": null,
            "align_items": null,
            "align_self": null,
            "border": null,
            "bottom": null,
            "display": null,
            "flex": null,
            "flex_flow": null,
            "grid_area": null,
            "grid_auto_columns": null,
            "grid_auto_flow": null,
            "grid_auto_rows": null,
            "grid_column": null,
            "grid_gap": null,
            "grid_row": null,
            "grid_template_areas": null,
            "grid_template_columns": null,
            "grid_template_rows": null,
            "height": null,
            "justify_content": null,
            "justify_items": null,
            "left": null,
            "margin": null,
            "max_height": null,
            "max_width": null,
            "min_height": null,
            "min_width": null,
            "object_fit": null,
            "object_position": null,
            "order": null,
            "overflow": null,
            "overflow_x": null,
            "overflow_y": null,
            "padding": null,
            "right": null,
            "top": null,
            "visibility": null,
            "width": null
          }
        },
        "f38e29cf4d05444e8cc687c43fe58ec9": {
          "model_module": "@jupyter-widgets/controls",
          "model_module_version": "1.5.0",
          "model_name": "DescriptionStyleModel",
          "state": {
            "_model_module": "@jupyter-widgets/controls",
            "_model_module_version": "1.5.0",
            "_model_name": "DescriptionStyleModel",
            "_view_count": null,
            "_view_module": "@jupyter-widgets/base",
            "_view_module_version": "1.2.0",
            "_view_name": "StyleView",
            "description_width": ""
          }
        },
        "ff700ce192ce4b189a01dd7ee3fab5b9": {
          "model_module": "@jupyter-widgets/controls",
          "model_module_version": "1.5.0",
          "model_name": "ProgressStyleModel",
          "state": {
            "_model_module": "@jupyter-widgets/controls",
            "_model_module_version": "1.5.0",
            "_model_name": "ProgressStyleModel",
            "_view_count": null,
            "_view_module": "@jupyter-widgets/base",
            "_view_module_version": "1.2.0",
            "_view_name": "StyleView",
            "bar_color": null,
            "description_width": ""
          }
        }
      }
    }
  },
  "nbformat": 4,
  "nbformat_minor": 0
}
